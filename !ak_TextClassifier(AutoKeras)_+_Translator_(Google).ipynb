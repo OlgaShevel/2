{
  "nbformat": 4,
  "nbformat_minor": 0,
  "metadata": {
    "colab": {
      "provenance": [],
      "gpuType": "T4",
      "include_colab_link": true
    },
    "kernelspec": {
      "name": "python3",
      "display_name": "Python 3"
    },
    "language_info": {
      "name": "python"
    },
    "accelerator": "GPU"
  },
  "cells": [
    {
      "cell_type": "markdown",
      "metadata": {
        "id": "view-in-github",
        "colab_type": "text"
      },
      "source": [
        "<a href=\"https://colab.research.google.com/github/OlgaShevel/Non-Computer-Vision-Project/blob/main/!ak_TextClassifier(AutoKeras)_%2B_Translator_(Google).ipynb\" target=\"_parent\"><img src=\"https://colab.research.google.com/assets/colab-badge.svg\" alt=\"Open In Colab\"/></a>"
      ]
    },
    {
      "cell_type": "code",
      "source": [],
      "metadata": {
        "id": "PLI41xnSyy22"
      },
      "execution_count": null,
      "outputs": []
    },
    {
      "cell_type": "markdown",
      "source": [
        "Решила сравнить точность текстового классификатора AutoKeras при распознании одних и тех же фраз на оригинальном английском языке и на автопереводе на русский язык, сделанный Translator от Google."
      ],
      "metadata": {
        "id": "OnZ-hFlrky3h"
      }
    },
    {
      "cell_type": "code",
      "source": [
        "!pip install googletrans==3.1.0a0"
      ],
      "metadata": {
        "id": "dGjZYF-QysnM"
      },
      "execution_count": null,
      "outputs": []
    },
    {
      "cell_type": "code",
      "source": [
        "!pip -q uninstall -y pyarrow\n",
        "!pip -q uninstall -y pydantic\n",
        "!pip -q install pydantic==1.10.13\n",
        "!pip -q install autokeras==1.0.20\n",
        "!pip -q install terra-ai-datasets-framework"
      ],
      "metadata": {
        "id": "-2Bk7CHo2Qxf"
      },
      "execution_count": null,
      "outputs": []
    },
    {
      "cell_type": "code",
      "source": [
        "import os\n",
        "import numpy as np\n",
        "import pandas as pd\n",
        "import matplotlib.pyplot as plt\n",
        "import glob\n",
        "import re\n",
        "import random\n",
        "import tensorflow as tf\n",
        "from googletrans import Translator\n",
        "from tensorflow.keras.models import load_model\n",
        "from tensorflow.keras.utils import plot_model\n",
        "import autokeras as ak"
      ],
      "metadata": {
        "id": "nDkOgroYma6-"
      },
      "execution_count": null,
      "outputs": []
    },
    {
      "cell_type": "markdown",
      "source": [
        "\n",
        "В датасете представлены сообщения из твиттера (на англ. языке).\n",
        "\n",
        "Твитты разделены на два класса:\n",
        "- о происшествиях и различных событиях, которые не связаны со стихийными бедствиями (класс 0)\n",
        "- о стихийных бедствиях, природных катаклизмах и т.д (класс 1)"
      ],
      "metadata": {
        "id": "zKzpKZ-n_u_B"
      }
    },
    {
      "cell_type": "markdown",
      "source": [
        "**Загрузить датасет**"
      ],
      "metadata": {
        "id": "c9vHaLfjNhtx"
      }
    },
    {
      "cell_type": "code",
      "source": [
        "!git clone https://github.com/tkeldenich/AutoKeras_BinaryClassification_DisasterTweet.git\n",
        "%cd AutoKeras_BinaryClassification_DisasterTweet\n",
        "\n",
        "for file in glob.glob('*.ipynb') + glob.glob('Readme.md'):\n",
        "    os.remove(file)"
      ],
      "metadata": {
        "id": "P0cwvgoURz8a",
        "outputId": "13d3a2c1-f201-4494-bcfe-5b75c899cb2f",
        "colab": {
          "base_uri": "https://localhost:8080/"
        }
      },
      "execution_count": null,
      "outputs": [
        {
          "output_type": "stream",
          "name": "stdout",
          "text": [
            "Cloning into 'AutoKeras_BinaryClassification_DisasterTweet'...\n",
            "remote: Enumerating objects: 30, done.\u001b[K\n",
            "remote: Counting objects: 100% (30/30), done.\u001b[K\n",
            "remote: Compressing objects: 100% (30/30), done.\u001b[K\n",
            "remote: Total 30 (delta 15), reused 0 (delta 0), pack-reused 0\u001b[K\n",
            "Receiving objects: 100% (30/30), 593.59 KiB | 2.26 MiB/s, done.\n",
            "Resolving deltas: 100% (15/15), done.\n",
            "/content/AutoKeras_BinaryClassification_DisasterTweet\n"
          ]
        }
      ]
    },
    {
      "cell_type": "code",
      "source": [
        "train_df = pd.read_csv('/content/AutoKeras_BinaryClassification_DisasterTweet/train.csv')\n",
        "test_df = pd.read_csv('/content/AutoKeras_BinaryClassification_DisasterTweet/test.csv')"
      ],
      "metadata": {
        "id": "negovkatvKjb"
      },
      "execution_count": null,
      "outputs": []
    },
    {
      "cell_type": "code",
      "source": [
        "train_df.head(100)"
      ],
      "metadata": {
        "colab": {
          "base_uri": "https://localhost:8080/",
          "height": 424
        },
        "id": "lvAEczbnvKfQ",
        "outputId": "bf8e36d1-a46d-4201-b11a-5211d9ee15e9"
      },
      "execution_count": null,
      "outputs": [
        {
          "output_type": "execute_result",
          "data": {
            "text/plain": [
              "     id   keyword              location  \\\n",
              "0     1       NaN                   NaN   \n",
              "1     4       NaN                   NaN   \n",
              "2     5       NaN                   NaN   \n",
              "3     6       NaN                   NaN   \n",
              "4     7       NaN                   NaN   \n",
              "..  ...       ...                   ...   \n",
              "95  137  accident             Charlotte   \n",
              "96  138  accident       Baton Rouge, LA   \n",
              "97  139  accident        Hagerstown, MD   \n",
              "98  141  accident  Gloucestershire , UK   \n",
              "99  143  accident                   NaN   \n",
              "\n",
              "                                                 text  target  \n",
              "0   Our Deeds are the Reason of this #earthquake M...       1  \n",
              "1              Forest fire near La Ronge Sask. Canada       1  \n",
              "2   All residents asked to 'shelter in place' are ...       1  \n",
              "3   13,000 people receive #wildfires evacuation or...       1  \n",
              "4   Just got sent this photo from Ruby #Alaska as ...       1  \n",
              "..                                                ...     ...  \n",
              "95  9 Mile backup on I-77 South...accident blockin...       1  \n",
              "96  Has an accident changed your life? We will hel...       0  \n",
              "97  #BREAKING: there was a deadly motorcycle car a...       1  \n",
              "98  @flowri were you marinading it or was it an ac...       0  \n",
              "99  only had a car for not even a week and got in ...       1  \n",
              "\n",
              "[100 rows x 5 columns]"
            ],
            "text/html": [
              "\n",
              "  <div id=\"df-9aa75844-bfdb-4d83-ac3f-426e8412ae93\" class=\"colab-df-container\">\n",
              "    <div>\n",
              "<style scoped>\n",
              "    .dataframe tbody tr th:only-of-type {\n",
              "        vertical-align: middle;\n",
              "    }\n",
              "\n",
              "    .dataframe tbody tr th {\n",
              "        vertical-align: top;\n",
              "    }\n",
              "\n",
              "    .dataframe thead th {\n",
              "        text-align: right;\n",
              "    }\n",
              "</style>\n",
              "<table border=\"1\" class=\"dataframe\">\n",
              "  <thead>\n",
              "    <tr style=\"text-align: right;\">\n",
              "      <th></th>\n",
              "      <th>id</th>\n",
              "      <th>keyword</th>\n",
              "      <th>location</th>\n",
              "      <th>text</th>\n",
              "      <th>target</th>\n",
              "    </tr>\n",
              "  </thead>\n",
              "  <tbody>\n",
              "    <tr>\n",
              "      <th>0</th>\n",
              "      <td>1</td>\n",
              "      <td>NaN</td>\n",
              "      <td>NaN</td>\n",
              "      <td>Our Deeds are the Reason of this #earthquake M...</td>\n",
              "      <td>1</td>\n",
              "    </tr>\n",
              "    <tr>\n",
              "      <th>1</th>\n",
              "      <td>4</td>\n",
              "      <td>NaN</td>\n",
              "      <td>NaN</td>\n",
              "      <td>Forest fire near La Ronge Sask. Canada</td>\n",
              "      <td>1</td>\n",
              "    </tr>\n",
              "    <tr>\n",
              "      <th>2</th>\n",
              "      <td>5</td>\n",
              "      <td>NaN</td>\n",
              "      <td>NaN</td>\n",
              "      <td>All residents asked to 'shelter in place' are ...</td>\n",
              "      <td>1</td>\n",
              "    </tr>\n",
              "    <tr>\n",
              "      <th>3</th>\n",
              "      <td>6</td>\n",
              "      <td>NaN</td>\n",
              "      <td>NaN</td>\n",
              "      <td>13,000 people receive #wildfires evacuation or...</td>\n",
              "      <td>1</td>\n",
              "    </tr>\n",
              "    <tr>\n",
              "      <th>4</th>\n",
              "      <td>7</td>\n",
              "      <td>NaN</td>\n",
              "      <td>NaN</td>\n",
              "      <td>Just got sent this photo from Ruby #Alaska as ...</td>\n",
              "      <td>1</td>\n",
              "    </tr>\n",
              "    <tr>\n",
              "      <th>...</th>\n",
              "      <td>...</td>\n",
              "      <td>...</td>\n",
              "      <td>...</td>\n",
              "      <td>...</td>\n",
              "      <td>...</td>\n",
              "    </tr>\n",
              "    <tr>\n",
              "      <th>95</th>\n",
              "      <td>137</td>\n",
              "      <td>accident</td>\n",
              "      <td>Charlotte</td>\n",
              "      <td>9 Mile backup on I-77 South...accident blockin...</td>\n",
              "      <td>1</td>\n",
              "    </tr>\n",
              "    <tr>\n",
              "      <th>96</th>\n",
              "      <td>138</td>\n",
              "      <td>accident</td>\n",
              "      <td>Baton Rouge, LA</td>\n",
              "      <td>Has an accident changed your life? We will hel...</td>\n",
              "      <td>0</td>\n",
              "    </tr>\n",
              "    <tr>\n",
              "      <th>97</th>\n",
              "      <td>139</td>\n",
              "      <td>accident</td>\n",
              "      <td>Hagerstown, MD</td>\n",
              "      <td>#BREAKING: there was a deadly motorcycle car a...</td>\n",
              "      <td>1</td>\n",
              "    </tr>\n",
              "    <tr>\n",
              "      <th>98</th>\n",
              "      <td>141</td>\n",
              "      <td>accident</td>\n",
              "      <td>Gloucestershire , UK</td>\n",
              "      <td>@flowri were you marinading it or was it an ac...</td>\n",
              "      <td>0</td>\n",
              "    </tr>\n",
              "    <tr>\n",
              "      <th>99</th>\n",
              "      <td>143</td>\n",
              "      <td>accident</td>\n",
              "      <td>NaN</td>\n",
              "      <td>only had a car for not even a week and got in ...</td>\n",
              "      <td>1</td>\n",
              "    </tr>\n",
              "  </tbody>\n",
              "</table>\n",
              "<p>100 rows × 5 columns</p>\n",
              "</div>\n",
              "    <div class=\"colab-df-buttons\">\n",
              "\n",
              "  <div class=\"colab-df-container\">\n",
              "    <button class=\"colab-df-convert\" onclick=\"convertToInteractive('df-9aa75844-bfdb-4d83-ac3f-426e8412ae93')\"\n",
              "            title=\"Convert this dataframe to an interactive table.\"\n",
              "            style=\"display:none;\">\n",
              "\n",
              "  <svg xmlns=\"http://www.w3.org/2000/svg\" height=\"24px\" viewBox=\"0 -960 960 960\">\n",
              "    <path d=\"M120-120v-720h720v720H120Zm60-500h600v-160H180v160Zm220 220h160v-160H400v160Zm0 220h160v-160H400v160ZM180-400h160v-160H180v160Zm440 0h160v-160H620v160ZM180-180h160v-160H180v160Zm440 0h160v-160H620v160Z\"/>\n",
              "  </svg>\n",
              "    </button>\n",
              "\n",
              "  <style>\n",
              "    .colab-df-container {\n",
              "      display:flex;\n",
              "      gap: 12px;\n",
              "    }\n",
              "\n",
              "    .colab-df-convert {\n",
              "      background-color: #E8F0FE;\n",
              "      border: none;\n",
              "      border-radius: 50%;\n",
              "      cursor: pointer;\n",
              "      display: none;\n",
              "      fill: #1967D2;\n",
              "      height: 32px;\n",
              "      padding: 0 0 0 0;\n",
              "      width: 32px;\n",
              "    }\n",
              "\n",
              "    .colab-df-convert:hover {\n",
              "      background-color: #E2EBFA;\n",
              "      box-shadow: 0px 1px 2px rgba(60, 64, 67, 0.3), 0px 1px 3px 1px rgba(60, 64, 67, 0.15);\n",
              "      fill: #174EA6;\n",
              "    }\n",
              "\n",
              "    .colab-df-buttons div {\n",
              "      margin-bottom: 4px;\n",
              "    }\n",
              "\n",
              "    [theme=dark] .colab-df-convert {\n",
              "      background-color: #3B4455;\n",
              "      fill: #D2E3FC;\n",
              "    }\n",
              "\n",
              "    [theme=dark] .colab-df-convert:hover {\n",
              "      background-color: #434B5C;\n",
              "      box-shadow: 0px 1px 3px 1px rgba(0, 0, 0, 0.15);\n",
              "      filter: drop-shadow(0px 1px 2px rgba(0, 0, 0, 0.3));\n",
              "      fill: #FFFFFF;\n",
              "    }\n",
              "  </style>\n",
              "\n",
              "    <script>\n",
              "      const buttonEl =\n",
              "        document.querySelector('#df-9aa75844-bfdb-4d83-ac3f-426e8412ae93 button.colab-df-convert');\n",
              "      buttonEl.style.display =\n",
              "        google.colab.kernel.accessAllowed ? 'block' : 'none';\n",
              "\n",
              "      async function convertToInteractive(key) {\n",
              "        const element = document.querySelector('#df-9aa75844-bfdb-4d83-ac3f-426e8412ae93');\n",
              "        const dataTable =\n",
              "          await google.colab.kernel.invokeFunction('convertToInteractive',\n",
              "                                                    [key], {});\n",
              "        if (!dataTable) return;\n",
              "\n",
              "        const docLinkHtml = 'Like what you see? Visit the ' +\n",
              "          '<a target=\"_blank\" href=https://colab.research.google.com/notebooks/data_table.ipynb>data table notebook</a>'\n",
              "          + ' to learn more about interactive tables.';\n",
              "        element.innerHTML = '';\n",
              "        dataTable['output_type'] = 'display_data';\n",
              "        await google.colab.output.renderOutput(dataTable, element);\n",
              "        const docLink = document.createElement('div');\n",
              "        docLink.innerHTML = docLinkHtml;\n",
              "        element.appendChild(docLink);\n",
              "      }\n",
              "    </script>\n",
              "  </div>\n",
              "\n",
              "\n",
              "<div id=\"df-2e841927-6d72-4c41-9433-62746ee9999a\">\n",
              "  <button class=\"colab-df-quickchart\" onclick=\"quickchart('df-2e841927-6d72-4c41-9433-62746ee9999a')\"\n",
              "            title=\"Suggest charts\"\n",
              "            style=\"display:none;\">\n",
              "\n",
              "<svg xmlns=\"http://www.w3.org/2000/svg\" height=\"24px\"viewBox=\"0 0 24 24\"\n",
              "     width=\"24px\">\n",
              "    <g>\n",
              "        <path d=\"M19 3H5c-1.1 0-2 .9-2 2v14c0 1.1.9 2 2 2h14c1.1 0 2-.9 2-2V5c0-1.1-.9-2-2-2zM9 17H7v-7h2v7zm4 0h-2V7h2v10zm4 0h-2v-4h2v4z\"/>\n",
              "    </g>\n",
              "</svg>\n",
              "  </button>\n",
              "\n",
              "<style>\n",
              "  .colab-df-quickchart {\n",
              "      --bg-color: #E8F0FE;\n",
              "      --fill-color: #1967D2;\n",
              "      --hover-bg-color: #E2EBFA;\n",
              "      --hover-fill-color: #174EA6;\n",
              "      --disabled-fill-color: #AAA;\n",
              "      --disabled-bg-color: #DDD;\n",
              "  }\n",
              "\n",
              "  [theme=dark] .colab-df-quickchart {\n",
              "      --bg-color: #3B4455;\n",
              "      --fill-color: #D2E3FC;\n",
              "      --hover-bg-color: #434B5C;\n",
              "      --hover-fill-color: #FFFFFF;\n",
              "      --disabled-bg-color: #3B4455;\n",
              "      --disabled-fill-color: #666;\n",
              "  }\n",
              "\n",
              "  .colab-df-quickchart {\n",
              "    background-color: var(--bg-color);\n",
              "    border: none;\n",
              "    border-radius: 50%;\n",
              "    cursor: pointer;\n",
              "    display: none;\n",
              "    fill: var(--fill-color);\n",
              "    height: 32px;\n",
              "    padding: 0;\n",
              "    width: 32px;\n",
              "  }\n",
              "\n",
              "  .colab-df-quickchart:hover {\n",
              "    background-color: var(--hover-bg-color);\n",
              "    box-shadow: 0 1px 2px rgba(60, 64, 67, 0.3), 0 1px 3px 1px rgba(60, 64, 67, 0.15);\n",
              "    fill: var(--button-hover-fill-color);\n",
              "  }\n",
              "\n",
              "  .colab-df-quickchart-complete:disabled,\n",
              "  .colab-df-quickchart-complete:disabled:hover {\n",
              "    background-color: var(--disabled-bg-color);\n",
              "    fill: var(--disabled-fill-color);\n",
              "    box-shadow: none;\n",
              "  }\n",
              "\n",
              "  .colab-df-spinner {\n",
              "    border: 2px solid var(--fill-color);\n",
              "    border-color: transparent;\n",
              "    border-bottom-color: var(--fill-color);\n",
              "    animation:\n",
              "      spin 1s steps(1) infinite;\n",
              "  }\n",
              "\n",
              "  @keyframes spin {\n",
              "    0% {\n",
              "      border-color: transparent;\n",
              "      border-bottom-color: var(--fill-color);\n",
              "      border-left-color: var(--fill-color);\n",
              "    }\n",
              "    20% {\n",
              "      border-color: transparent;\n",
              "      border-left-color: var(--fill-color);\n",
              "      border-top-color: var(--fill-color);\n",
              "    }\n",
              "    30% {\n",
              "      border-color: transparent;\n",
              "      border-left-color: var(--fill-color);\n",
              "      border-top-color: var(--fill-color);\n",
              "      border-right-color: var(--fill-color);\n",
              "    }\n",
              "    40% {\n",
              "      border-color: transparent;\n",
              "      border-right-color: var(--fill-color);\n",
              "      border-top-color: var(--fill-color);\n",
              "    }\n",
              "    60% {\n",
              "      border-color: transparent;\n",
              "      border-right-color: var(--fill-color);\n",
              "    }\n",
              "    80% {\n",
              "      border-color: transparent;\n",
              "      border-right-color: var(--fill-color);\n",
              "      border-bottom-color: var(--fill-color);\n",
              "    }\n",
              "    90% {\n",
              "      border-color: transparent;\n",
              "      border-bottom-color: var(--fill-color);\n",
              "    }\n",
              "  }\n",
              "</style>\n",
              "\n",
              "  <script>\n",
              "    async function quickchart(key) {\n",
              "      const quickchartButtonEl =\n",
              "        document.querySelector('#' + key + ' button');\n",
              "      quickchartButtonEl.disabled = true;  // To prevent multiple clicks.\n",
              "      quickchartButtonEl.classList.add('colab-df-spinner');\n",
              "      try {\n",
              "        const charts = await google.colab.kernel.invokeFunction(\n",
              "            'suggestCharts', [key], {});\n",
              "      } catch (error) {\n",
              "        console.error('Error during call to suggestCharts:', error);\n",
              "      }\n",
              "      quickchartButtonEl.classList.remove('colab-df-spinner');\n",
              "      quickchartButtonEl.classList.add('colab-df-quickchart-complete');\n",
              "    }\n",
              "    (() => {\n",
              "      let quickchartButtonEl =\n",
              "        document.querySelector('#df-2e841927-6d72-4c41-9433-62746ee9999a button');\n",
              "      quickchartButtonEl.style.display =\n",
              "        google.colab.kernel.accessAllowed ? 'block' : 'none';\n",
              "    })();\n",
              "  </script>\n",
              "</div>\n",
              "    </div>\n",
              "  </div>\n"
            ],
            "application/vnd.google.colaboratory.intrinsic+json": {
              "type": "dataframe",
              "variable_name": "train_df",
              "summary": "{\n  \"name\": \"train_df\",\n  \"rows\": 7613,\n  \"fields\": [\n    {\n      \"column\": \"id\",\n      \"properties\": {\n        \"dtype\": \"number\",\n        \"std\": 3137,\n        \"min\": 1,\n        \"max\": 10873,\n        \"num_unique_values\": 7613,\n        \"samples\": [\n          3796,\n          3185,\n          7769\n        ],\n        \"semantic_type\": \"\",\n        \"description\": \"\"\n      }\n    },\n    {\n      \"column\": \"keyword\",\n      \"properties\": {\n        \"dtype\": \"category\",\n        \"num_unique_values\": 221,\n        \"samples\": [\n          \"injury\",\n          \"nuclear%20reactor\",\n          \"engulfed\"\n        ],\n        \"semantic_type\": \"\",\n        \"description\": \"\"\n      }\n    },\n    {\n      \"column\": \"location\",\n      \"properties\": {\n        \"dtype\": \"category\",\n        \"num_unique_values\": 3341,\n        \"samples\": [\n          \"Oklahoma\",\n          \"Starling City\",\n          \"Trinidad and Tobago\"\n        ],\n        \"semantic_type\": \"\",\n        \"description\": \"\"\n      }\n    },\n    {\n      \"column\": \"text\",\n      \"properties\": {\n        \"dtype\": \"string\",\n        \"num_unique_values\": 7503,\n        \"samples\": [\n          \"Three Homes Demolished in Unrecognized Arab Village - International Middle East Media Center http://t.co/ik8m4Yi9T4\",\n          \"Reid Lake fire prompts campground evacuation order http://t.co/jBODKM6rBU\",\n          \"FAAN orders evacuation of abandoned aircraft at MMA http://t.co/dEvYbnVXGQ via @todayng\"\n        ],\n        \"semantic_type\": \"\",\n        \"description\": \"\"\n      }\n    },\n    {\n      \"column\": \"target\",\n      \"properties\": {\n        \"dtype\": \"number\",\n        \"std\": 0,\n        \"min\": 0,\n        \"max\": 1,\n        \"num_unique_values\": 2,\n        \"samples\": [\n          0,\n          1\n        ],\n        \"semantic_type\": \"\",\n        \"description\": \"\"\n      }\n    }\n  ]\n}"
            }
          },
          "metadata": {},
          "execution_count": 6
        }
      ]
    },
    {
      "cell_type": "code",
      "source": [
        "x_train = train_df['text'].to_numpy()\n",
        "y_train = train_df['target'].to_numpy()\n",
        "x_test = test_df['text'].to_numpy()\n",
        "y_test = test_df['id'].to_numpy()\n",
        "\n",
        "print(x_train.size, x_train.shape)\n",
        "print(y_train.size, y_train.shape)\n",
        "print(x_test.size, x_test.shape)\n",
        "print(y_test.size, y_test.shape)"
      ],
      "metadata": {
        "id": "Mr-L3e_S02Y1",
        "colab": {
          "base_uri": "https://localhost:8080/"
        },
        "outputId": "b8d63579-a8c5-470e-8500-161dafd55413"
      },
      "execution_count": null,
      "outputs": [
        {
          "output_type": "stream",
          "name": "stdout",
          "text": [
            "7613 (7613,)\n",
            "7613 (7613,)\n",
            "3263 (3263,)\n",
            "3263 (3263,)\n"
          ]
        }
      ]
    },
    {
      "cell_type": "code",
      "source": [
        "y_train = y_train.astype(np.int8)\n",
        "print(y_train)"
      ],
      "metadata": {
        "colab": {
          "base_uri": "https://localhost:8080/"
        },
        "id": "whRNMkmDLoQ-",
        "outputId": "0bf835f8-ee0f-4716-f5d0-3657a62c81fc"
      },
      "execution_count": null,
      "outputs": [
        {
          "output_type": "stream",
          "name": "stdout",
          "text": [
            "[1 1 1 ... 1 1 1]\n"
          ]
        }
      ]
    },
    {
      "cell_type": "code",
      "source": [
        "# уменьшим обучающую выборку до 1000 фраз\n",
        "\n",
        "'''\n",
        "n_samples = 1000\n",
        "\n",
        "# Выбираем случайные индексы для обрезки\n",
        "indices = np.random.choice(x_train.shape[0], n_samples, replace=False)\n",
        "x_train_cut = x_train[indices]\n",
        "y_train_cut = y_train[indices]\n",
        "\n",
        "print(x_train_cut.size, x_train_cut.shape)\n",
        "print(y_train_cut.size, y_train_cut.shape)\n",
        "'''"
      ],
      "metadata": {
        "colab": {
          "base_uri": "https://localhost:8080/"
        },
        "id": "TvzBsIqAb7wi",
        "outputId": "59ccea9f-2b65-4ef4-d184-31ded94083cd"
      },
      "execution_count": null,
      "outputs": [
        {
          "output_type": "stream",
          "name": "stdout",
          "text": [
            "1000 (1000,)\n",
            "1000 (1000,)\n"
          ]
        }
      ]
    },
    {
      "cell_type": "markdown",
      "source": [
        "**Подготовим данные для подачи в классификатор AutoKeras на английском языке**\n",
        "\n",
        "\n",
        "---\n",
        "\n"
      ],
      "metadata": {
        "id": "9MUAdTd6NwOu"
      }
    },
    {
      "cell_type": "code",
      "source": [
        "# Расставим запятые между фразами и сделаем кавычки однотипно двойными\n",
        "# здесь массив сохраняем как numpy\n",
        "\n",
        "x_train1 = np.array([x.replace(', ', ',') for x in x_train])\n",
        "x_train2 = np.array([s.replace(\"'\", '\"') for s in x_train1])\n",
        "x_train2[:10]"
      ],
      "metadata": {
        "id": "cVrOcjU5JvCl",
        "colab": {
          "base_uri": "https://localhost:8080/"
        },
        "outputId": "45a5c27e-ef0f-4f87-fc75-09e476eebff0"
      },
      "execution_count": null,
      "outputs": [
        {
          "output_type": "execute_result",
          "data": {
            "text/plain": [
              "array(['Our Deeds are the Reason of this #earthquake May ALLAH Forgive us all',\n",
              "       'Forest fire near La Ronge Sask. Canada',\n",
              "       'All residents asked to \"shelter in place\" are being notified by officers. No other evacuation or shelter in place orders are expected',\n",
              "       '13,000 people receive #wildfires evacuation orders in California ',\n",
              "       'Just got sent this photo from Ruby #Alaska as smoke from #wildfires pours into a school ',\n",
              "       '#RockyFire Update => California Hwy. 20 closed in both directions due to Lake County fire - #CAfire #wildfires',\n",
              "       '#flood #disaster Heavy rain causes flash flooding of streets in Manitou,Colorado Springs areas',\n",
              "       'I\"m on top of the hill and I can see a fire in the woods...',\n",
              "       'There\"s an emergency evacuation happening now in the building across the street',\n",
              "       'I\"m afraid that the tornado is coming to our area...'],\n",
              "      dtype='<U157')"
            ]
          },
          "metadata": {},
          "execution_count": 10
        }
      ]
    },
    {
      "cell_type": "code",
      "source": [],
      "metadata": {
        "id": "0PehAaX9iCqB"
      },
      "execution_count": null,
      "outputs": []
    },
    {
      "cell_type": "markdown",
      "source": [
        "**Подготовим данные для подачи в классификатор AutoKeras на русском языке**\n",
        "\n",
        "\n",
        "\n",
        "---\n",
        "\n",
        "Если бы я собиралась подать русский автоперевод в классификатор в режиме In-Memory, то порядок действий мог быть таким:\n",
        "\n",
        "- преобразовать обуч.выборку из numpy в list\n",
        "- создать и запустить объект класса Translator\n",
        "- получить доступ к атрибуту каждого объекта (которые и содержат фразы на русском языке)\n",
        "\n",
        "Пример ниже"
      ],
      "metadata": {
        "id": "f-OeGstSW2Ds"
      }
    },
    {
      "cell_type": "code",
      "source": [
        "# чтобы сделать автоперевод, обучающая выборка должна быть list\n",
        "\n",
        "x_train11 = [x.replace(', ', ',') for x in x_train]\n",
        "x_train22 = [s.replace(\"'\", '\"') for s in x_train11]\n",
        "print(type(x_train22))"
      ],
      "metadata": {
        "colab": {
          "base_uri": "https://localhost:8080/"
        },
        "id": "pcPf3hqVPexT",
        "outputId": "9b005a65-9acf-4772-e85d-3a771612b1c6"
      },
      "execution_count": null,
      "outputs": [
        {
          "output_type": "stream",
          "name": "stdout",
          "text": [
            "<class 'list'>\n"
          ]
        }
      ]
    },
    {
      "cell_type": "code",
      "source": [
        "# Выведем атрибуты объекта\n",
        "\n",
        "translator = Translator()\n",
        "result = translator.translate(x_train22[:10], src='en', dest='ru')\n",
        "result"
      ],
      "metadata": {
        "colab": {
          "base_uri": "https://localhost:8080/"
        },
        "id": "VTZCDdmKPeq-",
        "outputId": "1faf3a03-dbe2-4703-a023-5c5062d91fca"
      },
      "execution_count": null,
      "outputs": [
        {
          "output_type": "execute_result",
          "data": {
            "text/plain": [
              "[<googletrans.models.Translated at 0x7bd61ac038e0>,\n",
              " <googletrans.models.Translated at 0x7bd61ac24d60>,\n",
              " <googletrans.models.Translated at 0x7bd61ac25e70>,\n",
              " <googletrans.models.Translated at 0x7bd61ac26f80>,\n",
              " <googletrans.models.Translated at 0x7bd61ac27ca0>,\n",
              " <googletrans.models.Translated at 0x7bd61aa32d40>,\n",
              " <googletrans.models.Translated at 0x7bd61aa33280>,\n",
              " <googletrans.models.Translated at 0x7bd61aa30d30>,\n",
              " <googletrans.models.Translated at 0x7bd61aa50160>,\n",
              " <googletrans.models.Translated at 0x7bd61aa51240>]"
            ]
          },
          "metadata": {},
          "execution_count": 27
        }
      ]
    },
    {
      "cell_type": "code",
      "source": [
        "# Выведем содержание атрибутов объекта\n",
        "\n",
        "translated_texts = [translation.text for translation in result]\n",
        "print(len(translated_texts))\n",
        "translated_texts"
      ],
      "metadata": {
        "colab": {
          "base_uri": "https://localhost:8080/"
        },
        "id": "UwZ_oNk0PekY",
        "outputId": "9daedf3e-0b8c-4782-de97-f8a1cef36fb2"
      },
      "execution_count": null,
      "outputs": [
        {
          "output_type": "stream",
          "name": "stdout",
          "text": [
            "10\n"
          ]
        },
        {
          "output_type": "execute_result",
          "data": {
            "text/plain": [
              "['@zhenghxn я попробовал 11 глаз, убийца Акаме и токийский гуль, черт возьми, я не смею смотреть????????',\n",
              " 'на этой стоянке есть пожарная машина',\n",
              " 'Прежде чем ты пришел, вокруг моей комнаты пролетел торнадо.',\n",
              " 'AngelRiveraLibÛ_ #Сноуден «возможно» нарушил законы? Ураган Катрина, возможно, причинил некоторый ущерб. http://t.co/jAaWuiOvdc Без Сноудена хÛ_',\n",
              " 'учитывая, что этот человек является массовым убийцей и имеет оборудование уровня ФБР и ЦРУ, чтобы творить зло.',\n",
              " 'Wrightways: Структурная целостность и разрушение зданий: проверки, повреждения, дефекты, испытания, ремонт http://t.co/vz1irH0Nmm через @rightwaystan',\n",
              " 'Я ЗАКРИЧАЛ В КОНЦЕ: ОАМСГАДЖАГАХАХА, ИМ ЛЕЙГИН #OTRAMETLIFE http://t.co/eTkBW1RCrv',\n",
              " '#Племя продолжает тонуть с каждым днём, кажется, быстрее. Что касается этого года, то это была титаническая катастрофа.',\n",
              " 'Транспортная панель, показывающая видео скопления 18-колесных транспортных средств во время снежной бури в Вайоминге. Crash Crash Crash ÛÏОстановите это!Û #AMSsummer',\n",
              " 'Что это? Как будто я могу быть в опасности или что-то в этом роде']"
            ]
          },
          "metadata": {},
          "execution_count": 29
        }
      ]
    },
    {
      "cell_type": "code",
      "source": [],
      "metadata": {
        "id": "FaTSeX_Mhl9D"
      },
      "execution_count": null,
      "outputs": []
    },
    {
      "cell_type": "markdown",
      "source": [
        "**Автоперевод на русский язык оригинального файла train.csv**\n",
        "\n",
        "\n",
        "\n",
        "---\n",
        "\n",
        "Но Translator() может не потянуть перевод 1000 фраз (а точнее - и не тянет). Возможно, встроены ограничения на время сеанса или что-то связано с RAM виртуальной машины colab.\n",
        "\n",
        "Тогда автопереводим столбец text оригинального файла с фразами на английском языке и создаем файл с фразами на русском языке. Содержание остальных столбцов остается прежним.\n",
        "\n",
        "Время на CPU для перевода:\n",
        "\n",
        "- файла train.csv (964,56 кб) ~ 17 мин\n",
        "\n",
        "- файла test.csv (410,92 кб) ~ 7 мин\n",
        "\n",
        "Автопереведенные файлы получились ожидаемо для русского языка больше по размеру:\n",
        "\n",
        "- файла train_rus.csv (1,52 мб)\n",
        "\n",
        "- файла test_rus.csv (661,13 кб)\n",
        "\n",
        "Далее порядок обработки текста перед подачей в классификатор AutoKeras такой же, как для оригиналов."
      ],
      "metadata": {
        "id": "f6WJPyQyheB5"
      }
    },
    {
      "cell_type": "code",
      "source": [
        "# Автоперевод файлов train.csv и test.csv с английскими фразами\n",
        "\n",
        "df = pd.read_csv('/content/AutoKeras_BinaryClassification_DisasterTweet/train.csv')\n",
        "df['text'] = df['text'].apply(lambda x: translator.translate(x, dest='ru').text)\n",
        "df.to_csv('train_rus.csv', index=False)"
      ],
      "metadata": {
        "id": "cwZv-zq1uZe2"
      },
      "execution_count": null,
      "outputs": []
    },
    {
      "cell_type": "code",
      "source": [
        "df = pd.read_csv('/content/AutoKeras_BinaryClassification_DisasterTweet/test.csv')\n",
        "df['text'] = df['text'].apply(lambda x: translator.translate(x, dest='ru').text)\n",
        "df.to_csv('test_rus.csv', index=False)"
      ],
      "metadata": {
        "id": "Z6W449NMFObj"
      },
      "execution_count": null,
      "outputs": []
    },
    {
      "cell_type": "code",
      "source": [
        "train_rus_df = pd.read_csv('/content/AutoKeras_BinaryClassification_DisasterTweet/train_rus.csv')\n",
        "train_rus_df[65:75]"
      ],
      "metadata": {
        "colab": {
          "base_uri": "https://localhost:8080/",
          "height": 363
        },
        "id": "3opDCNatuZbZ",
        "outputId": "ce70dfff-6447-49c4-ca4c-c837619fb508"
      },
      "execution_count": null,
      "outputs": [
        {
          "output_type": "execute_result",
          "data": {
            "text/plain": [
              "     id   keyword                location  \\\n",
              "65   93    ablaze              Birmingham   \n",
              "66   95    ablaze           San Francisco   \n",
              "67   96  accident                  CLVLND   \n",
              "68   97  accident           Nashville, TN   \n",
              "69   98  accident         Santa Clara, CA   \n",
              "70  100  accident                      UK   \n",
              "71  102  accident           St. Louis, MO   \n",
              "72  104  accident  Walker County, Alabama   \n",
              "73  105  accident               Australia   \n",
              "74  107  accident          North Carolina   \n",
              "\n",
              "                                                 text  target  \n",
              "65  @nxwestmidlands пылает огромный пожар на оптов...       1  \n",
              "66  @ablaze до какого часа длится твой разговор? Н...       0  \n",
              "67  «Я не могу иметь детей, потому что попала в ав...       0  \n",
              "68  Авария на I-24 W #NashvilleTraffic. Движение т...       1  \n",
              "69  Полоса центра аварии заблокирована в #Санта-Кл...       1  \n",
              "70  http://t.co/GKYe6gjTk5 Этим летом произошел не...       0  \n",
              "71  #stlouis #caraccidentlawyer Превышение скорост...       0  \n",
              "72  Сообщается о дорожно-транспортном происшествии...       1  \n",
              "73  BigRigRadio Информирование об авариях в прямом...       1  \n",
              "74  I-77 Mile Marker 31 South Mooresville Iredell ...       1  "
            ],
            "text/html": [
              "\n",
              "  <div id=\"df-3424bc6c-30ea-4cf3-8d99-35a06668863b\" class=\"colab-df-container\">\n",
              "    <div>\n",
              "<style scoped>\n",
              "    .dataframe tbody tr th:only-of-type {\n",
              "        vertical-align: middle;\n",
              "    }\n",
              "\n",
              "    .dataframe tbody tr th {\n",
              "        vertical-align: top;\n",
              "    }\n",
              "\n",
              "    .dataframe thead th {\n",
              "        text-align: right;\n",
              "    }\n",
              "</style>\n",
              "<table border=\"1\" class=\"dataframe\">\n",
              "  <thead>\n",
              "    <tr style=\"text-align: right;\">\n",
              "      <th></th>\n",
              "      <th>id</th>\n",
              "      <th>keyword</th>\n",
              "      <th>location</th>\n",
              "      <th>text</th>\n",
              "      <th>target</th>\n",
              "    </tr>\n",
              "  </thead>\n",
              "  <tbody>\n",
              "    <tr>\n",
              "      <th>65</th>\n",
              "      <td>93</td>\n",
              "      <td>ablaze</td>\n",
              "      <td>Birmingham</td>\n",
              "      <td>@nxwestmidlands пылает огромный пожар на оптов...</td>\n",
              "      <td>1</td>\n",
              "    </tr>\n",
              "    <tr>\n",
              "      <th>66</th>\n",
              "      <td>95</td>\n",
              "      <td>ablaze</td>\n",
              "      <td>San Francisco</td>\n",
              "      <td>@ablaze до какого часа длится твой разговор? Н...</td>\n",
              "      <td>0</td>\n",
              "    </tr>\n",
              "    <tr>\n",
              "      <th>67</th>\n",
              "      <td>96</td>\n",
              "      <td>accident</td>\n",
              "      <td>CLVLND</td>\n",
              "      <td>«Я не могу иметь детей, потому что попала в ав...</td>\n",
              "      <td>0</td>\n",
              "    </tr>\n",
              "    <tr>\n",
              "      <th>68</th>\n",
              "      <td>97</td>\n",
              "      <td>accident</td>\n",
              "      <td>Nashville, TN</td>\n",
              "      <td>Авария на I-24 W #NashvilleTraffic. Движение т...</td>\n",
              "      <td>1</td>\n",
              "    </tr>\n",
              "    <tr>\n",
              "      <th>69</th>\n",
              "      <td>98</td>\n",
              "      <td>accident</td>\n",
              "      <td>Santa Clara, CA</td>\n",
              "      <td>Полоса центра аварии заблокирована в #Санта-Кл...</td>\n",
              "      <td>1</td>\n",
              "    </tr>\n",
              "    <tr>\n",
              "      <th>70</th>\n",
              "      <td>100</td>\n",
              "      <td>accident</td>\n",
              "      <td>UK</td>\n",
              "      <td>http://t.co/GKYe6gjTk5 Этим летом произошел не...</td>\n",
              "      <td>0</td>\n",
              "    </tr>\n",
              "    <tr>\n",
              "      <th>71</th>\n",
              "      <td>102</td>\n",
              "      <td>accident</td>\n",
              "      <td>St. Louis, MO</td>\n",
              "      <td>#stlouis #caraccidentlawyer Превышение скорост...</td>\n",
              "      <td>0</td>\n",
              "    </tr>\n",
              "    <tr>\n",
              "      <th>72</th>\n",
              "      <td>104</td>\n",
              "      <td>accident</td>\n",
              "      <td>Walker County, Alabama</td>\n",
              "      <td>Сообщается о дорожно-транспортном происшествии...</td>\n",
              "      <td>1</td>\n",
              "    </tr>\n",
              "    <tr>\n",
              "      <th>73</th>\n",
              "      <td>105</td>\n",
              "      <td>accident</td>\n",
              "      <td>Australia</td>\n",
              "      <td>BigRigRadio Информирование об авариях в прямом...</td>\n",
              "      <td>1</td>\n",
              "    </tr>\n",
              "    <tr>\n",
              "      <th>74</th>\n",
              "      <td>107</td>\n",
              "      <td>accident</td>\n",
              "      <td>North Carolina</td>\n",
              "      <td>I-77 Mile Marker 31 South Mooresville Iredell ...</td>\n",
              "      <td>1</td>\n",
              "    </tr>\n",
              "  </tbody>\n",
              "</table>\n",
              "</div>\n",
              "    <div class=\"colab-df-buttons\">\n",
              "\n",
              "  <div class=\"colab-df-container\">\n",
              "    <button class=\"colab-df-convert\" onclick=\"convertToInteractive('df-3424bc6c-30ea-4cf3-8d99-35a06668863b')\"\n",
              "            title=\"Convert this dataframe to an interactive table.\"\n",
              "            style=\"display:none;\">\n",
              "\n",
              "  <svg xmlns=\"http://www.w3.org/2000/svg\" height=\"24px\" viewBox=\"0 -960 960 960\">\n",
              "    <path d=\"M120-120v-720h720v720H120Zm60-500h600v-160H180v160Zm220 220h160v-160H400v160Zm0 220h160v-160H400v160ZM180-400h160v-160H180v160Zm440 0h160v-160H620v160ZM180-180h160v-160H180v160Zm440 0h160v-160H620v160Z\"/>\n",
              "  </svg>\n",
              "    </button>\n",
              "\n",
              "  <style>\n",
              "    .colab-df-container {\n",
              "      display:flex;\n",
              "      gap: 12px;\n",
              "    }\n",
              "\n",
              "    .colab-df-convert {\n",
              "      background-color: #E8F0FE;\n",
              "      border: none;\n",
              "      border-radius: 50%;\n",
              "      cursor: pointer;\n",
              "      display: none;\n",
              "      fill: #1967D2;\n",
              "      height: 32px;\n",
              "      padding: 0 0 0 0;\n",
              "      width: 32px;\n",
              "    }\n",
              "\n",
              "    .colab-df-convert:hover {\n",
              "      background-color: #E2EBFA;\n",
              "      box-shadow: 0px 1px 2px rgba(60, 64, 67, 0.3), 0px 1px 3px 1px rgba(60, 64, 67, 0.15);\n",
              "      fill: #174EA6;\n",
              "    }\n",
              "\n",
              "    .colab-df-buttons div {\n",
              "      margin-bottom: 4px;\n",
              "    }\n",
              "\n",
              "    [theme=dark] .colab-df-convert {\n",
              "      background-color: #3B4455;\n",
              "      fill: #D2E3FC;\n",
              "    }\n",
              "\n",
              "    [theme=dark] .colab-df-convert:hover {\n",
              "      background-color: #434B5C;\n",
              "      box-shadow: 0px 1px 3px 1px rgba(0, 0, 0, 0.15);\n",
              "      filter: drop-shadow(0px 1px 2px rgba(0, 0, 0, 0.3));\n",
              "      fill: #FFFFFF;\n",
              "    }\n",
              "  </style>\n",
              "\n",
              "    <script>\n",
              "      const buttonEl =\n",
              "        document.querySelector('#df-3424bc6c-30ea-4cf3-8d99-35a06668863b button.colab-df-convert');\n",
              "      buttonEl.style.display =\n",
              "        google.colab.kernel.accessAllowed ? 'block' : 'none';\n",
              "\n",
              "      async function convertToInteractive(key) {\n",
              "        const element = document.querySelector('#df-3424bc6c-30ea-4cf3-8d99-35a06668863b');\n",
              "        const dataTable =\n",
              "          await google.colab.kernel.invokeFunction('convertToInteractive',\n",
              "                                                    [key], {});\n",
              "        if (!dataTable) return;\n",
              "\n",
              "        const docLinkHtml = 'Like what you see? Visit the ' +\n",
              "          '<a target=\"_blank\" href=https://colab.research.google.com/notebooks/data_table.ipynb>data table notebook</a>'\n",
              "          + ' to learn more about interactive tables.';\n",
              "        element.innerHTML = '';\n",
              "        dataTable['output_type'] = 'display_data';\n",
              "        await google.colab.output.renderOutput(dataTable, element);\n",
              "        const docLink = document.createElement('div');\n",
              "        docLink.innerHTML = docLinkHtml;\n",
              "        element.appendChild(docLink);\n",
              "      }\n",
              "    </script>\n",
              "  </div>\n",
              "\n",
              "\n",
              "<div id=\"df-627f4a02-01a6-4f6d-9a34-043a5c6bfd20\">\n",
              "  <button class=\"colab-df-quickchart\" onclick=\"quickchart('df-627f4a02-01a6-4f6d-9a34-043a5c6bfd20')\"\n",
              "            title=\"Suggest charts\"\n",
              "            style=\"display:none;\">\n",
              "\n",
              "<svg xmlns=\"http://www.w3.org/2000/svg\" height=\"24px\"viewBox=\"0 0 24 24\"\n",
              "     width=\"24px\">\n",
              "    <g>\n",
              "        <path d=\"M19 3H5c-1.1 0-2 .9-2 2v14c0 1.1.9 2 2 2h14c1.1 0 2-.9 2-2V5c0-1.1-.9-2-2-2zM9 17H7v-7h2v7zm4 0h-2V7h2v10zm4 0h-2v-4h2v4z\"/>\n",
              "    </g>\n",
              "</svg>\n",
              "  </button>\n",
              "\n",
              "<style>\n",
              "  .colab-df-quickchart {\n",
              "      --bg-color: #E8F0FE;\n",
              "      --fill-color: #1967D2;\n",
              "      --hover-bg-color: #E2EBFA;\n",
              "      --hover-fill-color: #174EA6;\n",
              "      --disabled-fill-color: #AAA;\n",
              "      --disabled-bg-color: #DDD;\n",
              "  }\n",
              "\n",
              "  [theme=dark] .colab-df-quickchart {\n",
              "      --bg-color: #3B4455;\n",
              "      --fill-color: #D2E3FC;\n",
              "      --hover-bg-color: #434B5C;\n",
              "      --hover-fill-color: #FFFFFF;\n",
              "      --disabled-bg-color: #3B4455;\n",
              "      --disabled-fill-color: #666;\n",
              "  }\n",
              "\n",
              "  .colab-df-quickchart {\n",
              "    background-color: var(--bg-color);\n",
              "    border: none;\n",
              "    border-radius: 50%;\n",
              "    cursor: pointer;\n",
              "    display: none;\n",
              "    fill: var(--fill-color);\n",
              "    height: 32px;\n",
              "    padding: 0;\n",
              "    width: 32px;\n",
              "  }\n",
              "\n",
              "  .colab-df-quickchart:hover {\n",
              "    background-color: var(--hover-bg-color);\n",
              "    box-shadow: 0 1px 2px rgba(60, 64, 67, 0.3), 0 1px 3px 1px rgba(60, 64, 67, 0.15);\n",
              "    fill: var(--button-hover-fill-color);\n",
              "  }\n",
              "\n",
              "  .colab-df-quickchart-complete:disabled,\n",
              "  .colab-df-quickchart-complete:disabled:hover {\n",
              "    background-color: var(--disabled-bg-color);\n",
              "    fill: var(--disabled-fill-color);\n",
              "    box-shadow: none;\n",
              "  }\n",
              "\n",
              "  .colab-df-spinner {\n",
              "    border: 2px solid var(--fill-color);\n",
              "    border-color: transparent;\n",
              "    border-bottom-color: var(--fill-color);\n",
              "    animation:\n",
              "      spin 1s steps(1) infinite;\n",
              "  }\n",
              "\n",
              "  @keyframes spin {\n",
              "    0% {\n",
              "      border-color: transparent;\n",
              "      border-bottom-color: var(--fill-color);\n",
              "      border-left-color: var(--fill-color);\n",
              "    }\n",
              "    20% {\n",
              "      border-color: transparent;\n",
              "      border-left-color: var(--fill-color);\n",
              "      border-top-color: var(--fill-color);\n",
              "    }\n",
              "    30% {\n",
              "      border-color: transparent;\n",
              "      border-left-color: var(--fill-color);\n",
              "      border-top-color: var(--fill-color);\n",
              "      border-right-color: var(--fill-color);\n",
              "    }\n",
              "    40% {\n",
              "      border-color: transparent;\n",
              "      border-right-color: var(--fill-color);\n",
              "      border-top-color: var(--fill-color);\n",
              "    }\n",
              "    60% {\n",
              "      border-color: transparent;\n",
              "      border-right-color: var(--fill-color);\n",
              "    }\n",
              "    80% {\n",
              "      border-color: transparent;\n",
              "      border-right-color: var(--fill-color);\n",
              "      border-bottom-color: var(--fill-color);\n",
              "    }\n",
              "    90% {\n",
              "      border-color: transparent;\n",
              "      border-bottom-color: var(--fill-color);\n",
              "    }\n",
              "  }\n",
              "</style>\n",
              "\n",
              "  <script>\n",
              "    async function quickchart(key) {\n",
              "      const quickchartButtonEl =\n",
              "        document.querySelector('#' + key + ' button');\n",
              "      quickchartButtonEl.disabled = true;  // To prevent multiple clicks.\n",
              "      quickchartButtonEl.classList.add('colab-df-spinner');\n",
              "      try {\n",
              "        const charts = await google.colab.kernel.invokeFunction(\n",
              "            'suggestCharts', [key], {});\n",
              "      } catch (error) {\n",
              "        console.error('Error during call to suggestCharts:', error);\n",
              "      }\n",
              "      quickchartButtonEl.classList.remove('colab-df-spinner');\n",
              "      quickchartButtonEl.classList.add('colab-df-quickchart-complete');\n",
              "    }\n",
              "    (() => {\n",
              "      let quickchartButtonEl =\n",
              "        document.querySelector('#df-627f4a02-01a6-4f6d-9a34-043a5c6bfd20 button');\n",
              "      quickchartButtonEl.style.display =\n",
              "        google.colab.kernel.accessAllowed ? 'block' : 'none';\n",
              "    })();\n",
              "  </script>\n",
              "</div>\n",
              "    </div>\n",
              "  </div>\n"
            ],
            "application/vnd.google.colaboratory.intrinsic+json": {
              "type": "dataframe",
              "summary": "{\n  \"name\": \"train_rus_df[65:75]\",\n  \"rows\": 10,\n  \"fields\": [\n    {\n      \"column\": \"id\",\n      \"properties\": {\n        \"dtype\": \"number\",\n        \"std\": 4,\n        \"min\": 93,\n        \"max\": 107,\n        \"num_unique_values\": 10,\n        \"samples\": [\n          105,\n          95,\n          100\n        ],\n        \"semantic_type\": \"\",\n        \"description\": \"\"\n      }\n    },\n    {\n      \"column\": \"keyword\",\n      \"properties\": {\n        \"dtype\": \"category\",\n        \"num_unique_values\": 2,\n        \"samples\": [\n          \"accident\",\n          \"ablaze\"\n        ],\n        \"semantic_type\": \"\",\n        \"description\": \"\"\n      }\n    },\n    {\n      \"column\": \"location\",\n      \"properties\": {\n        \"dtype\": \"string\",\n        \"num_unique_values\": 10,\n        \"samples\": [\n          \"Australia\",\n          \"San Francisco\"\n        ],\n        \"semantic_type\": \"\",\n        \"description\": \"\"\n      }\n    },\n    {\n      \"column\": \"text\",\n      \"properties\": {\n        \"dtype\": \"string\",\n        \"num_unique_values\": 10,\n        \"samples\": [\n          \"BigRigRadio \\u0418\\u043d\\u0444\\u043e\\u0440\\u043c\\u0438\\u0440\\u043e\\u0432\\u0430\\u043d\\u0438\\u0435 \\u043e\\u0431 \\u0430\\u0432\\u0430\\u0440\\u0438\\u044f\\u0445 \\u0432 \\u043f\\u0440\\u044f\\u043c\\u043e\\u043c \\u044d\\u0444\\u0438\\u0440\\u0435\",\n          \"@ablaze \\u0434\\u043e \\u043a\\u0430\\u043a\\u043e\\u0433\\u043e \\u0447\\u0430\\u0441\\u0430 \\u0434\\u043b\\u0438\\u0442\\u0441\\u044f \\u0442\\u0432\\u043e\\u0439 \\u0440\\u0430\\u0437\\u0433\\u043e\\u0432\\u043e\\u0440? \\u041d\\u0435 \\u0437\\u043d\\u0430\\u044e, \\u0441\\u043c\\u043e\\u0433\\u0443 \\u043b\\u0438 \\u044f \\u043f\\u0440\\u0438\\u0439\\u0442\\u0438 \\u0438\\u0437-\\u0437\\u0430 \\u0440\\u0430\\u0431\\u043e\\u0442\\u044b.\"\n        ],\n        \"semantic_type\": \"\",\n        \"description\": \"\"\n      }\n    },\n    {\n      \"column\": \"target\",\n      \"properties\": {\n        \"dtype\": \"number\",\n        \"std\": 0,\n        \"min\": 0,\n        \"max\": 1,\n        \"num_unique_values\": 2,\n        \"samples\": [\n          0,\n          1\n        ],\n        \"semantic_type\": \"\",\n        \"description\": \"\"\n      }\n    }\n  ]\n}"
            }
          },
          "metadata": {},
          "execution_count": 11
        }
      ]
    },
    {
      "cell_type": "code",
      "source": [
        "test_rus_df = pd.read_csv('/content/AutoKeras_BinaryClassification_DisasterTweet/train_rus.csv')"
      ],
      "metadata": {
        "id": "G9PJVZYqh2Rh"
      },
      "execution_count": null,
      "outputs": []
    },
    {
      "cell_type": "code",
      "source": [
        "x_train_rus = train_rus_df['text'].to_numpy()\n",
        "y_train_rus = train_rus_df['target'].to_numpy()\n",
        "x_test_rus = test_rus_df['text'].to_numpy()\n",
        "y_test_rus = test_rus_df['id'].to_numpy()\n",
        "\n",
        "print(x_train_rus.shape)\n",
        "print(y_train_rus.shape)\n",
        "print(x_test_rus.shape)\n",
        "print(y_test_rus.shape)"
      ],
      "metadata": {
        "colab": {
          "base_uri": "https://localhost:8080/"
        },
        "id": "-HTKkFR2xr47",
        "outputId": "f6940676-0de5-48cf-d120-fc67aa966796"
      },
      "execution_count": null,
      "outputs": [
        {
          "output_type": "stream",
          "name": "stdout",
          "text": [
            "(7613,)\n",
            "(7613,)\n",
            "(3263,)\n",
            "(3263,)\n"
          ]
        }
      ]
    },
    {
      "cell_type": "code",
      "source": [
        "y_train_rus = y_train_rus.astype(np.int8)\n",
        "print(y_train)"
      ],
      "metadata": {
        "colab": {
          "base_uri": "https://localhost:8080/"
        },
        "id": "5NuLbf83Lybk",
        "outputId": "5144fb94-375c-4a5d-f932-8a97f4cbfd96"
      },
      "execution_count": null,
      "outputs": [
        {
          "output_type": "stream",
          "name": "stdout",
          "text": [
            "[1 1 1 ... 1 1 1]\n"
          ]
        }
      ]
    },
    {
      "cell_type": "code",
      "source": [
        "# уменьшим обучающую выборку до 1000 фраз\n",
        "\n",
        "'''\n",
        "n_samples = 1000\n",
        "\n",
        "# Выбираем случайные индексы для обрезки\n",
        "indices = np.random.choice(x_train_rus.shape[0], n_samples, replace=False)\n",
        "x_train_cut_rus = x_train_rus[indices]\n",
        "y_train_cut_rus = y_train_rus[indices]\n",
        "\n",
        "print(x_train_cut_rus.shape)\n",
        "print(y_train_cut_rus.shape)\n",
        "'''"
      ],
      "metadata": {
        "colab": {
          "base_uri": "https://localhost:8080/"
        },
        "id": "wsVL2DIhIeEQ",
        "outputId": "1245f841-c57c-4218-be19-d8240e705a2c"
      },
      "execution_count": null,
      "outputs": [
        {
          "output_type": "stream",
          "name": "stdout",
          "text": [
            "(1000,)\n",
            "(1000,)\n"
          ]
        }
      ]
    },
    {
      "cell_type": "code",
      "source": [
        "# Расставим запятые между фразами и сделаем кавычки однотипно двойными\n",
        "# здесь массив сохраняем как numpy\n",
        "\n",
        "x_train_rus1 = np.array([x.replace(', ', ',') for x in x_train_rus])\n",
        "x_train_rus2 = np.array([s.replace(\"'\", '\"') for s in x_train_rus1])\n",
        "x_train_rus2[:10]"
      ],
      "metadata": {
        "colab": {
          "base_uri": "https://localhost:8080/"
        },
        "id": "kL3PN4F9xrwm",
        "outputId": "1450928d-5b38-4eb3-e8c7-7c8b26fea98b"
      },
      "execution_count": null,
      "outputs": [
        {
          "output_type": "execute_result",
          "data": {
            "text/plain": [
              "array(['Наши деяния являются причиной этого #землетрясения. Да простит нас всех АЛЛАХ',\n",
              "       'Лесной пожар возле Ла Ронж Саск. Канада',\n",
              "       'Все жители,которых попросили «укрыться на месте»,уведомляются офицерами. Никаких других приказов об эвакуации или укрытии на месте не ожидается.',\n",
              "       '13 000 человек получили приказ об эвакуации из-за лесных пожаров в Калифорнии',\n",
              "       'Мне только что прислали это фото из Руби #Аляска,когда дым от #диких пожаров распространяется на школу',\n",
              "       'Обновление #RockyFire => Калифорнийское шоссе. 20 закрыты в обоих направлениях из-за пожара в округе Лейк - #CAfire #wildfires',\n",
              "       '#наводнение #катастрофа Сильный дождь вызвал внезапное затопление улиц в Маниту,штат Колорадо-Спрингс',\n",
              "       'Я нахожусь на вершине холма и вижу огонь в лесу...',\n",
              "       'Сейчас в здании напротив происходит экстренная эвакуация.',\n",
              "       'Боюсь,что торнадо приближается к нашим краям...'], dtype='<U269')"
            ]
          },
          "metadata": {},
          "execution_count": 15
        }
      ]
    },
    {
      "cell_type": "code",
      "source": [],
      "metadata": {
        "id": "Pxl4JH-YIPg3"
      },
      "execution_count": null,
      "outputs": []
    },
    {
      "cell_type": "markdown",
      "source": [
        "#**Английский язык**\n",
        "\n",
        "**ak.TextClassifier**\n",
        "\n",
        "---\n",
        "\n",
        "Оригинальные данные на английском языке"
      ],
      "metadata": {
        "id": "uVZ9dDwex-LC"
      }
    },
    {
      "cell_type": "code",
      "source": [
        "clf_1 = ak.TextClassifier(\n",
        "        max_trials=3,\n",
        "        overwrite=True,\n",
        "        seed=42,\n",
        "        num_classes=2,\n",
        "        multi_label=False,\n",
        "        metrics=[\"accuracy\"],\n",
        "        objective=\"val_loss\",\n",
        "        loss = 'binary_crossentropy'\n",
        "        )\n",
        "\n",
        "history = clf_1.fit(\n",
        "          x_train2, y_train,\n",
        "          epochs=10,\n",
        "          batch_size=32,\n",
        "          validation_split=0.2,\n",
        ")"
      ],
      "metadata": {
        "colab": {
          "base_uri": "https://localhost:8080/"
        },
        "id": "ablrNL3Ex9vF",
        "outputId": "e0bcbb2f-0718-40b7-ea5e-fd10d482c9e8"
      },
      "execution_count": null,
      "outputs": [
        {
          "output_type": "stream",
          "name": "stdout",
          "text": [
            "Trial 3 Complete [00h 00m 41s]\n",
            "\n",
            "Best val_loss So Far: 0.4673289954662323\n",
            "Total elapsed time: 00h 02m 34s\n",
            "Epoch 1/10\n",
            "238/238 [==============================] - 18s 70ms/step - loss: 0.6376 - accuracy: 0.6570\n",
            "Epoch 2/10\n",
            "238/238 [==============================] - 2s 8ms/step - loss: 0.4260 - accuracy: 0.8140\n",
            "Epoch 3/10\n",
            "238/238 [==============================] - 2s 7ms/step - loss: 0.3026 - accuracy: 0.8774\n",
            "Epoch 4/10\n",
            "238/238 [==============================] - 2s 7ms/step - loss: 0.2303 - accuracy: 0.9133\n",
            "Epoch 5/10\n",
            "238/238 [==============================] - 2s 8ms/step - loss: 0.1719 - accuracy: 0.9358\n",
            "Epoch 6/10\n",
            "238/238 [==============================] - 2s 9ms/step - loss: 0.1633 - accuracy: 0.9431\n",
            "Epoch 7/10\n",
            "238/238 [==============================] - 2s 9ms/step - loss: 0.1367 - accuracy: 0.9536\n",
            "Epoch 8/10\n",
            "238/238 [==============================] - 2s 7ms/step - loss: 0.1072 - accuracy: 0.9610\n",
            "Epoch 9/10\n",
            "238/238 [==============================] - 2s 7ms/step - loss: 0.1018 - accuracy: 0.9647\n",
            "Epoch 10/10\n",
            "238/238 [==============================] - 2s 7ms/step - loss: 0.0767 - accuracy: 0.9722\n"
          ]
        }
      ]
    },
    {
      "cell_type": "code",
      "source": [
        "model_1 = clf_1.export_model()\n",
        "model_1.save('model_text_1.keras')\n",
        "model_1.summary()"
      ],
      "metadata": {
        "id": "9dlJDNd6x9sH"
      },
      "execution_count": null,
      "outputs": []
    },
    {
      "cell_type": "code",
      "source": [
        "plt.figure(figsize = (6, 4))\n",
        "plt.plot(history.history['loss'], label = 'loss')\n",
        "plt.plot(history.history['accuracy'], label = 'accuracy')\n",
        "plt.xlabel('Эпохи обучения')\n",
        "plt.ylabel('Динамика')\n",
        "plt.legend()\n",
        "plt.show()"
      ],
      "metadata": {
        "colab": {
          "base_uri": "https://localhost:8080/",
          "height": 388
        },
        "id": "KR6AYAvNXKxL",
        "outputId": "aabc09da-e7af-4afc-aeb2-b787e3f3299f"
      },
      "execution_count": null,
      "outputs": [
        {
          "output_type": "display_data",
          "data": {
            "text/plain": [
              "<Figure size 600x400 with 1 Axes>"
            ],
            "image/png": "[encoded data removed]"
          },
          "metadata": {}
        }
      ]
    },
    {
      "cell_type": "code",
      "source": [
        "# Выполняем предикт\n",
        "\n",
        "pred = model_1.predict([x_test], verbose=1)\n",
        "print()\n",
        "pred"
      ],
      "metadata": {
        "colab": {
          "base_uri": "https://localhost:8080/"
        },
        "id": "T5_NhGdrbcde",
        "outputId": "d8784599-5a95-4d16-e4a6-6224ec0d439c"
      },
      "execution_count": null,
      "outputs": [
        {
          "output_type": "stream",
          "name": "stdout",
          "text": [
            "102/102 [==============================] - 1s 4ms/step\n",
            "\n"
          ]
        },
        {
          "output_type": "execute_result",
          "data": {
            "text/plain": [
              "array([[0.76374906],\n",
              "       [0.96029997],\n",
              "       [0.9998616 ],\n",
              "       ...,\n",
              "       [0.99054   ],\n",
              "       [0.9699725 ],\n",
              "       [0.8964545 ]], dtype=float32)"
            ]
          },
          "metadata": {},
          "execution_count": 19
        }
      ]
    },
    {
      "cell_type": "code",
      "source": [
        "# Создаем таблицу с предсказаниями\n",
        "\n",
        "test_pred_df = pd.DataFrame({'Text': x_test, 'Prediction': pred.squeeze()})\n",
        "# Добавляем столбец с предсказанными классами (0 или 1) на основе порога вероятности Т = 0.5\n",
        "test_pred_df['Predicted_Class'] = (test_pred_df['Prediction'] >= 0.5).astype(int)\n",
        "\n",
        "test_pred_df"
      ],
      "metadata": {
        "colab": {
          "base_uri": "https://localhost:8080/",
          "height": 424
        },
        "id": "PNyLNSvBx9e5",
        "outputId": "6ba066f1-d42d-427d-844e-60b7c253e670"
      },
      "execution_count": null,
      "outputs": [
        {
          "output_type": "execute_result",
          "data": {
            "text/plain": [
              "                                                   Text  Prediction  \\\n",
              "0                    Just happened a terrible car crash    0.763749   \n",
              "1     Heard about #earthquake is different cities, s...    0.960300   \n",
              "2     there is a forest fire at spot pond, geese are...    0.999862   \n",
              "3              Apocalypse lighting. #Spokane #wildfires    0.999875   \n",
              "4         Typhoon Soudelor kills 28 in China and Taiwan    0.999998   \n",
              "...                                                 ...         ...   \n",
              "3258  EARTHQUAKE SAFETY LOS ANGELES ÛÒ SAFETY FASTE...    0.941012   \n",
              "3259  Storm in RI worse than last hurricane. My city...    0.996315   \n",
              "3260  Green Line derailment in Chicago http://t.co/U...    0.990540   \n",
              "3261  MEG issues Hazardous Weather Outlook (HWO) htt...    0.969972   \n",
              "3262  #CityofCalgary has activated its Municipal Eme...    0.896455   \n",
              "\n",
              "      Predicted_Class  \n",
              "0                   1  \n",
              "1                   1  \n",
              "2                   1  \n",
              "3                   1  \n",
              "4                   1  \n",
              "...               ...  \n",
              "3258                1  \n",
              "3259                1  \n",
              "3260                1  \n",
              "3261                1  \n",
              "3262                1  \n",
              "\n",
              "[3263 rows x 3 columns]"
            ],
            "text/html": [
              "\n",
              "  <div id=\"df-e5384ece-82c3-40d1-aa55-32c69006aa2b\" class=\"colab-df-container\">\n",
              "    <div>\n",
              "<style scoped>\n",
              "    .dataframe tbody tr th:only-of-type {\n",
              "        vertical-align: middle;\n",
              "    }\n",
              "\n",
              "    .dataframe tbody tr th {\n",
              "        vertical-align: top;\n",
              "    }\n",
              "\n",
              "    .dataframe thead th {\n",
              "        text-align: right;\n",
              "    }\n",
              "</style>\n",
              "<table border=\"1\" class=\"dataframe\">\n",
              "  <thead>\n",
              "    <tr style=\"text-align: right;\">\n",
              "      <th></th>\n",
              "      <th>Text</th>\n",
              "      <th>Prediction</th>\n",
              "      <th>Predicted_Class</th>\n",
              "    </tr>\n",
              "  </thead>\n",
              "  <tbody>\n",
              "    <tr>\n",
              "      <th>0</th>\n",
              "      <td>Just happened a terrible car crash</td>\n",
              "      <td>0.763749</td>\n",
              "      <td>1</td>\n",
              "    </tr>\n",
              "    <tr>\n",
              "      <th>1</th>\n",
              "      <td>Heard about #earthquake is different cities, s...</td>\n",
              "      <td>0.960300</td>\n",
              "      <td>1</td>\n",
              "    </tr>\n",
              "    <tr>\n",
              "      <th>2</th>\n",
              "      <td>there is a forest fire at spot pond, geese are...</td>\n",
              "      <td>0.999862</td>\n",
              "      <td>1</td>\n",
              "    </tr>\n",
              "    <tr>\n",
              "      <th>3</th>\n",
              "      <td>Apocalypse lighting. #Spokane #wildfires</td>\n",
              "      <td>0.999875</td>\n",
              "      <td>1</td>\n",
              "    </tr>\n",
              "    <tr>\n",
              "      <th>4</th>\n",
              "      <td>Typhoon Soudelor kills 28 in China and Taiwan</td>\n",
              "      <td>0.999998</td>\n",
              "      <td>1</td>\n",
              "    </tr>\n",
              "    <tr>\n",
              "      <th>...</th>\n",
              "      <td>...</td>\n",
              "      <td>...</td>\n",
              "      <td>...</td>\n",
              "    </tr>\n",
              "    <tr>\n",
              "      <th>3258</th>\n",
              "      <td>EARTHQUAKE SAFETY LOS ANGELES ÛÒ SAFETY FASTE...</td>\n",
              "      <td>0.941012</td>\n",
              "      <td>1</td>\n",
              "    </tr>\n",
              "    <tr>\n",
              "      <th>3259</th>\n",
              "      <td>Storm in RI worse than last hurricane. My city...</td>\n",
              "      <td>0.996315</td>\n",
              "      <td>1</td>\n",
              "    </tr>\n",
              "    <tr>\n",
              "      <th>3260</th>\n",
              "      <td>Green Line derailment in Chicago http://t.co/U...</td>\n",
              "      <td>0.990540</td>\n",
              "      <td>1</td>\n",
              "    </tr>\n",
              "    <tr>\n",
              "      <th>3261</th>\n",
              "      <td>MEG issues Hazardous Weather Outlook (HWO) htt...</td>\n",
              "      <td>0.969972</td>\n",
              "      <td>1</td>\n",
              "    </tr>\n",
              "    <tr>\n",
              "      <th>3262</th>\n",
              "      <td>#CityofCalgary has activated its Municipal Eme...</td>\n",
              "      <td>0.896455</td>\n",
              "      <td>1</td>\n",
              "    </tr>\n",
              "  </tbody>\n",
              "</table>\n",
              "<p>3263 rows × 3 columns</p>\n",
              "</div>\n",
              "    <div class=\"colab-df-buttons\">\n",
              "\n",
              "  <div class=\"colab-df-container\">\n",
              "    <button class=\"colab-df-convert\" onclick=\"convertToInteractive('df-e5384ece-82c3-40d1-aa55-32c69006aa2b')\"\n",
              "            title=\"Convert this dataframe to an interactive table.\"\n",
              "            style=\"display:none;\">\n",
              "\n",
              "  <svg xmlns=\"http://www.w3.org/2000/svg\" height=\"24px\" viewBox=\"0 -960 960 960\">\n",
              "    <path d=\"M120-120v-720h720v720H120Zm60-500h600v-160H180v160Zm220 220h160v-160H400v160Zm0 220h160v-160H400v160ZM180-400h160v-160H180v160Zm440 0h160v-160H620v160ZM180-180h160v-160H180v160Zm440 0h160v-160H620v160Z\"/>\n",
              "  </svg>\n",
              "    </button>\n",
              "\n",
              "  <style>\n",
              "    .colab-df-container {\n",
              "      display:flex;\n",
              "      gap: 12px;\n",
              "    }\n",
              "\n",
              "    .colab-df-convert {\n",
              "      background-color: #E8F0FE;\n",
              "      border: none;\n",
              "      border-radius: 50%;\n",
              "      cursor: pointer;\n",
              "      display: none;\n",
              "      fill: #1967D2;\n",
              "      height: 32px;\n",
              "      padding: 0 0 0 0;\n",
              "      width: 32px;\n",
              "    }\n",
              "\n",
              "    .colab-df-convert:hover {\n",
              "      background-color: #E2EBFA;\n",
              "      box-shadow: 0px 1px 2px rgba(60, 64, 67, 0.3), 0px 1px 3px 1px rgba(60, 64, 67, 0.15);\n",
              "      fill: #174EA6;\n",
              "    }\n",
              "\n",
              "    .colab-df-buttons div {\n",
              "      margin-bottom: 4px;\n",
              "    }\n",
              "\n",
              "    [theme=dark] .colab-df-convert {\n",
              "      background-color: #3B4455;\n",
              "      fill: #D2E3FC;\n",
              "    }\n",
              "\n",
              "    [theme=dark] .colab-df-convert:hover {\n",
              "      background-color: #434B5C;\n",
              "      box-shadow: 0px 1px 3px 1px rgba(0, 0, 0, 0.15);\n",
              "      filter: drop-shadow(0px 1px 2px rgba(0, 0, 0, 0.3));\n",
              "      fill: #FFFFFF;\n",
              "    }\n",
              "  </style>\n",
              "\n",
              "    <script>\n",
              "      const buttonEl =\n",
              "        document.querySelector('#df-e5384ece-82c3-40d1-aa55-32c69006aa2b button.colab-df-convert');\n",
              "      buttonEl.style.display =\n",
              "        google.colab.kernel.accessAllowed ? 'block' : 'none';\n",
              "\n",
              "      async function convertToInteractive(key) {\n",
              "        const element = document.querySelector('#df-e5384ece-82c3-40d1-aa55-32c69006aa2b');\n",
              "        const dataTable =\n",
              "          await google.colab.kernel.invokeFunction('convertToInteractive',\n",
              "                                                    [key], {});\n",
              "        if (!dataTable) return;\n",
              "\n",
              "        const docLinkHtml = 'Like what you see? Visit the ' +\n",
              "          '<a target=\"_blank\" href=https://colab.research.google.com/notebooks/data_table.ipynb>data table notebook</a>'\n",
              "          + ' to learn more about interactive tables.';\n",
              "        element.innerHTML = '';\n",
              "        dataTable['output_type'] = 'display_data';\n",
              "        await google.colab.output.renderOutput(dataTable, element);\n",
              "        const docLink = document.createElement('div');\n",
              "        docLink.innerHTML = docLinkHtml;\n",
              "        element.appendChild(docLink);\n",
              "      }\n",
              "    </script>\n",
              "  </div>\n",
              "\n",
              "\n",
              "<div id=\"df-94728f04-f071-402d-b0b8-a430adb6acd8\">\n",
              "  <button class=\"colab-df-quickchart\" onclick=\"quickchart('df-94728f04-f071-402d-b0b8-a430adb6acd8')\"\n",
              "            title=\"Suggest charts\"\n",
              "            style=\"display:none;\">\n",
              "\n",
              "<svg xmlns=\"http://www.w3.org/2000/svg\" height=\"24px\"viewBox=\"0 0 24 24\"\n",
              "     width=\"24px\">\n",
              "    <g>\n",
              "        <path d=\"M19 3H5c-1.1 0-2 .9-2 2v14c0 1.1.9 2 2 2h14c1.1 0 2-.9 2-2V5c0-1.1-.9-2-2-2zM9 17H7v-7h2v7zm4 0h-2V7h2v10zm4 0h-2v-4h2v4z\"/>\n",
              "    </g>\n",
              "</svg>\n",
              "  </button>\n",
              "\n",
              "<style>\n",
              "  .colab-df-quickchart {\n",
              "      --bg-color: #E8F0FE;\n",
              "      --fill-color: #1967D2;\n",
              "      --hover-bg-color: #E2EBFA;\n",
              "      --hover-fill-color: #174EA6;\n",
              "      --disabled-fill-color: #AAA;\n",
              "      --disabled-bg-color: #DDD;\n",
              "  }\n",
              "\n",
              "  [theme=dark] .colab-df-quickchart {\n",
              "      --bg-color: #3B4455;\n",
              "      --fill-color: #D2E3FC;\n",
              "      --hover-bg-color: #434B5C;\n",
              "      --hover-fill-color: #FFFFFF;\n",
              "      --disabled-bg-color: #3B4455;\n",
              "      --disabled-fill-color: #666;\n",
              "  }\n",
              "\n",
              "  .colab-df-quickchart {\n",
              "    background-color: var(--bg-color);\n",
              "    border: none;\n",
              "    border-radius: 50%;\n",
              "    cursor: pointer;\n",
              "    display: none;\n",
              "    fill: var(--fill-color);\n",
              "    height: 32px;\n",
              "    padding: 0;\n",
              "    width: 32px;\n",
              "  }\n",
              "\n",
              "  .colab-df-quickchart:hover {\n",
              "    background-color: var(--hover-bg-color);\n",
              "    box-shadow: 0 1px 2px rgba(60, 64, 67, 0.3), 0 1px 3px 1px rgba(60, 64, 67, 0.15);\n",
              "    fill: var(--button-hover-fill-color);\n",
              "  }\n",
              "\n",
              "  .colab-df-quickchart-complete:disabled,\n",
              "  .colab-df-quickchart-complete:disabled:hover {\n",
              "    background-color: var(--disabled-bg-color);\n",
              "    fill: var(--disabled-fill-color);\n",
              "    box-shadow: none;\n",
              "  }\n",
              "\n",
              "  .colab-df-spinner {\n",
              "    border: 2px solid var(--fill-color);\n",
              "    border-color: transparent;\n",
              "    border-bottom-color: var(--fill-color);\n",
              "    animation:\n",
              "      spin 1s steps(1) infinite;\n",
              "  }\n",
              "\n",
              "  @keyframes spin {\n",
              "    0% {\n",
              "      border-color: transparent;\n",
              "      border-bottom-color: var(--fill-color);\n",
              "      border-left-color: var(--fill-color);\n",
              "    }\n",
              "    20% {\n",
              "      border-color: transparent;\n",
              "      border-left-color: var(--fill-color);\n",
              "      border-top-color: var(--fill-color);\n",
              "    }\n",
              "    30% {\n",
              "      border-color: transparent;\n",
              "      border-left-color: var(--fill-color);\n",
              "      border-top-color: var(--fill-color);\n",
              "      border-right-color: var(--fill-color);\n",
              "    }\n",
              "    40% {\n",
              "      border-color: transparent;\n",
              "      border-right-color: var(--fill-color);\n",
              "      border-top-color: var(--fill-color);\n",
              "    }\n",
              "    60% {\n",
              "      border-color: transparent;\n",
              "      border-right-color: var(--fill-color);\n",
              "    }\n",
              "    80% {\n",
              "      border-color: transparent;\n",
              "      border-right-color: var(--fill-color);\n",
              "      border-bottom-color: var(--fill-color);\n",
              "    }\n",
              "    90% {\n",
              "      border-color: transparent;\n",
              "      border-bottom-color: var(--fill-color);\n",
              "    }\n",
              "  }\n",
              "</style>\n",
              "\n",
              "  <script>\n",
              "    async function quickchart(key) {\n",
              "      const quickchartButtonEl =\n",
              "        document.querySelector('#' + key + ' button');\n",
              "      quickchartButtonEl.disabled = true;  // To prevent multiple clicks.\n",
              "      quickchartButtonEl.classList.add('colab-df-spinner');\n",
              "      try {\n",
              "        const charts = await google.colab.kernel.invokeFunction(\n",
              "            'suggestCharts', [key], {});\n",
              "      } catch (error) {\n",
              "        console.error('Error during call to suggestCharts:', error);\n",
              "      }\n",
              "      quickchartButtonEl.classList.remove('colab-df-spinner');\n",
              "      quickchartButtonEl.classList.add('colab-df-quickchart-complete');\n",
              "    }\n",
              "    (() => {\n",
              "      let quickchartButtonEl =\n",
              "        document.querySelector('#df-94728f04-f071-402d-b0b8-a430adb6acd8 button');\n",
              "      quickchartButtonEl.style.display =\n",
              "        google.colab.kernel.accessAllowed ? 'block' : 'none';\n",
              "    })();\n",
              "  </script>\n",
              "</div>\n",
              "    </div>\n",
              "  </div>\n"
            ],
            "application/vnd.google.colaboratory.intrinsic+json": {
              "type": "dataframe",
              "variable_name": "test_pred_df",
              "summary": "{\n  \"name\": \"test_pred_df\",\n  \"rows\": 3263,\n  \"fields\": [\n    {\n      \"column\": \"Text\",\n      \"properties\": {\n        \"dtype\": \"string\",\n        \"num_unique_values\": 3243,\n        \"samples\": [\n          \"Latest: USA: Huge sinkhole swallows up Brooklyn intersection http://t.co/vspKHg3nZy\",\n          \"I liked a @YouTube video http://t.co/a5YTAw9Vih S.O.S. Rona Guide - The Red Whirlwind\",\n          \"HitchBot travels Europe and greeted with open arms. Gets destroyed after two weeks in america. There's a lesson to be learned here.\"\n        ],\n        \"semantic_type\": \"\",\n        \"description\": \"\"\n      }\n    },\n    {\n      \"column\": \"Prediction\",\n      \"properties\": {\n        \"dtype\": \"float32\",\n        \"num_unique_values\": 2757,\n        \"samples\": [\n          0.44520652294158936,\n          0.9972257018089294,\n          0.04869358614087105\n        ],\n        \"semantic_type\": \"\",\n        \"description\": \"\"\n      }\n    },\n    {\n      \"column\": \"Predicted_Class\",\n      \"properties\": {\n        \"dtype\": \"number\",\n        \"std\": 0,\n        \"min\": 0,\n        \"max\": 1,\n        \"num_unique_values\": 2,\n        \"samples\": [\n          0,\n          1\n        ],\n        \"semantic_type\": \"\",\n        \"description\": \"\"\n      }\n    }\n  ]\n}"
            }
          },
          "metadata": {},
          "execution_count": 20
        }
      ]
    },
    {
      "cell_type": "code",
      "source": [
        "test_loss, test_accuracy = clf_1.evaluate(x_train2, y_train, verbose=1)\n",
        "print(f\"Значения средней ошибки и точность модели на тестовом наборе: {test_loss :.4f} {test_accuracy :.4f}\")"
      ],
      "metadata": {
        "colab": {
          "base_uri": "https://localhost:8080/"
        },
        "id": "6smqdVWax9bL",
        "outputId": "38aea8d1-e022-4e68-dc97-a571acfe1680"
      },
      "execution_count": null,
      "outputs": [
        {
          "output_type": "stream",
          "name": "stdout",
          "text": [
            "238/238 [==============================] - 2s 7ms/step - loss: 0.0567 - accuracy: 0.9775\n",
            "Значения средней ошибки и точность модели на тестовом наборе: 0.056672 0.977538\n"
          ]
        }
      ]
    },
    {
      "cell_type": "code",
      "source": [],
      "metadata": {
        "id": "pqX6AJdNx9Vu"
      },
      "execution_count": null,
      "outputs": []
    },
    {
      "cell_type": "markdown",
      "source": [
        "#**Русский язык**\n",
        "\n",
        "**ak.TextClassifier**\n",
        "\n",
        "---\n",
        "\n",
        "Автоперевод на русский язык"
      ],
      "metadata": {
        "id": "M0HJlA7sNP49"
      }
    },
    {
      "cell_type": "code",
      "source": [
        "clf_2 = ak.TextClassifier(\n",
        "        max_trials=3,\n",
        "        overwrite=True,\n",
        "        seed=42,\n",
        "        num_classes=2,\n",
        "        multi_label=False,\n",
        "        metrics=[\"accuracy\"],\n",
        "        objective=\"val_loss\",\n",
        "        loss = 'binary_crossentropy'\n",
        "        )\n",
        "\n",
        "history = clf_2.fit(\n",
        "          x_train_rus2, y_train_rus,\n",
        "          epochs=10,\n",
        "          batch_size=32,\n",
        "          validation_split=0.2,\n",
        ")"
      ],
      "metadata": {
        "id": "rWugIqrMZRuI",
        "colab": {
          "base_uri": "https://localhost:8080/"
        },
        "outputId": "16236a4f-99d3-43f1-a8cf-76b3f73d2cdb"
      },
      "execution_count": null,
      "outputs": [
        {
          "output_type": "stream",
          "name": "stdout",
          "text": [
            "Trial 3 Complete [00h 00m 34s]\n",
            "\n",
            "Best val_loss So Far: 0.5249025821685791\n",
            "Total elapsed time: 00h 01m 54s\n",
            "Epoch 1/10\n",
            "238/238 [==============================] - 14s 52ms/step - loss: 0.6503 - accuracy: 0.6476\n",
            "Epoch 2/10\n",
            "238/238 [==============================] - 2s 10ms/step - loss: 0.4456 - accuracy: 0.8056\n",
            "Epoch 3/10\n",
            "238/238 [==============================] - 2s 9ms/step - loss: 0.3289 - accuracy: 0.8654\n",
            "Epoch 4/10\n",
            "238/238 [==============================] - 2s 9ms/step - loss: 0.2557 - accuracy: 0.9042\n",
            "Epoch 5/10\n",
            "238/238 [==============================] - 2s 8ms/step - loss: 0.2030 - accuracy: 0.9216\n",
            "Epoch 6/10\n",
            "238/238 [==============================] - 2s 8ms/step - loss: 0.1748 - accuracy: 0.9330\n",
            "Epoch 7/10\n",
            "238/238 [==============================] - 2s 7ms/step - loss: 0.1431 - accuracy: 0.9425\n",
            "Epoch 8/10\n",
            "238/238 [==============================] - 2s 7ms/step - loss: 0.1223 - accuracy: 0.9527\n",
            "Epoch 9/10\n",
            "238/238 [==============================] - 2s 8ms/step - loss: 0.0996 - accuracy: 0.9606\n",
            "Epoch 10/10\n",
            "238/238 [==============================] - 3s 11ms/step - loss: 0.0839 - accuracy: 0.9652\n"
          ]
        }
      ]
    },
    {
      "cell_type": "code",
      "source": [
        "model_1 = clf_2.export_model()\n",
        "model_1.save('model_text_1.keras')\n",
        "model_1.summary()"
      ],
      "metadata": {
        "id": "jU0AmzuXWm_l"
      },
      "execution_count": null,
      "outputs": []
    },
    {
      "cell_type": "code",
      "source": [
        "plt.figure(figsize = (6, 4))\n",
        "plt.plot(history.history['loss'], label = 'loss')\n",
        "plt.plot(history.history['accuracy'], label = 'accuracy')\n",
        "plt.xlabel('Эпохи обучения')\n",
        "plt.ylabel('Динамика')\n",
        "plt.legend()\n",
        "plt.show()"
      ],
      "metadata": {
        "id": "fteND6FPWm8w",
        "colab": {
          "base_uri": "https://localhost:8080/",
          "height": 390
        },
        "outputId": "861b6ddf-f2fe-4f22-a92a-48e8b4850847"
      },
      "execution_count": null,
      "outputs": [
        {
          "output_type": "display_data",
          "data": {
            "text/plain": [
              "<Figure size 600x400 with 1 Axes>"
            ],
            "image/png": "[encoded data removed]"
          },
          "metadata": {}
        }
      ]
    },
    {
      "cell_type": "code",
      "source": [
        "pred_rus = model_1.predict([x_test_rus], verbose=1)"
      ],
      "metadata": {
        "colab": {
          "base_uri": "https://localhost:8080/"
        },
        "id": "fVb238nvPTVT",
        "outputId": "f23618fb-de1e-4593-ad67-ed16a04b1686"
      },
      "execution_count": null,
      "outputs": [
        {
          "output_type": "stream",
          "name": "stdout",
          "text": [
            "102/102 [==============================] - 0s 3ms/step\n"
          ]
        }
      ]
    },
    {
      "cell_type": "code",
      "source": [
        "test_pred_rus_df = pd.DataFrame({'Text': x_test_rus, 'Prediction': pred_rus.squeeze()})\n",
        "test_pred_rus_df['Predicted_Class'] = (test_pred_rus_df['Prediction'] >= 0.5).astype(int)\n",
        "\n",
        "test_pred_rus_df"
      ],
      "metadata": {
        "id": "dDTJjiGcWm4A",
        "colab": {
          "base_uri": "https://localhost:8080/",
          "height": 424
        },
        "outputId": "742c221d-1a4a-4733-b775-9dec3bce6872"
      },
      "execution_count": null,
      "outputs": [
        {
          "output_type": "execute_result",
          "data": {
            "text/plain": [
              "                                                   Text  Prediction  \\\n",
              "0           Только что произошла ужасная автокатастрофа    0.987962   \n",
              "1     Слышали о #землетрясении в разных городах, буд...    0.483666   \n",
              "2     на пруду лесной пожар, гуси перебегают улицу, ...    0.984027   \n",
              "3     Апокалиптическое освещение. #Спокан #лесные по...    0.999102   \n",
              "4     Тайфун Суделор унес жизни 28 человек в Китае и...    0.541245   \n",
              "...                                                 ...         ...   \n",
              "3258  СЕЙСЕМАЛЬНАЯ БЕЗОПАСНОСТЬ ЛОС-АНДЖЕЛЕС ÛÒ БЕЗО...    0.925893   \n",
              "3259  Шторм в РИ сильнее прошлого урагана. Мой город...    0.999535   \n",
              "3260  Крушение зеленой линии в Чикаго http://t.co/Ut...    0.962046   \n",
              "3261  MEG выпускает прогноз опасной погоды (HWO) htt...    0.687889   \n",
              "3262  #CityofCalgary активировал Муниципальный план ...    0.000961   \n",
              "\n",
              "      Predicted_Class  \n",
              "0                   1  \n",
              "1                   0  \n",
              "2                   1  \n",
              "3                   1  \n",
              "4                   1  \n",
              "...               ...  \n",
              "3258                1  \n",
              "3259                1  \n",
              "3260                1  \n",
              "3261                1  \n",
              "3262                0  \n",
              "\n",
              "[3263 rows x 3 columns]"
            ],
            "text/html": [
              "\n",
              "  <div id=\"df-b49ea5c0-c788-4373-ab48-e8a8238357fc\" class=\"colab-df-container\">\n",
              "    <div>\n",
              "<style scoped>\n",
              "    .dataframe tbody tr th:only-of-type {\n",
              "        vertical-align: middle;\n",
              "    }\n",
              "\n",
              "    .dataframe tbody tr th {\n",
              "        vertical-align: top;\n",
              "    }\n",
              "\n",
              "    .dataframe thead th {\n",
              "        text-align: right;\n",
              "    }\n",
              "</style>\n",
              "<table border=\"1\" class=\"dataframe\">\n",
              "  <thead>\n",
              "    <tr style=\"text-align: right;\">\n",
              "      <th></th>\n",
              "      <th>Text</th>\n",
              "      <th>Prediction</th>\n",
              "      <th>Predicted_Class</th>\n",
              "    </tr>\n",
              "  </thead>\n",
              "  <tbody>\n",
              "    <tr>\n",
              "      <th>0</th>\n",
              "      <td>Только что произошла ужасная автокатастрофа</td>\n",
              "      <td>0.987962</td>\n",
              "      <td>1</td>\n",
              "    </tr>\n",
              "    <tr>\n",
              "      <th>1</th>\n",
              "      <td>Слышали о #землетрясении в разных городах, буд...</td>\n",
              "      <td>0.483666</td>\n",
              "      <td>0</td>\n",
              "    </tr>\n",
              "    <tr>\n",
              "      <th>2</th>\n",
              "      <td>на пруду лесной пожар, гуси перебегают улицу, ...</td>\n",
              "      <td>0.984027</td>\n",
              "      <td>1</td>\n",
              "    </tr>\n",
              "    <tr>\n",
              "      <th>3</th>\n",
              "      <td>Апокалиптическое освещение. #Спокан #лесные по...</td>\n",
              "      <td>0.999102</td>\n",
              "      <td>1</td>\n",
              "    </tr>\n",
              "    <tr>\n",
              "      <th>4</th>\n",
              "      <td>Тайфун Суделор унес жизни 28 человек в Китае и...</td>\n",
              "      <td>0.541245</td>\n",
              "      <td>1</td>\n",
              "    </tr>\n",
              "    <tr>\n",
              "      <th>...</th>\n",
              "      <td>...</td>\n",
              "      <td>...</td>\n",
              "      <td>...</td>\n",
              "    </tr>\n",
              "    <tr>\n",
              "      <th>3258</th>\n",
              "      <td>СЕЙСЕМАЛЬНАЯ БЕЗОПАСНОСТЬ ЛОС-АНДЖЕЛЕС ÛÒ БЕЗО...</td>\n",
              "      <td>0.925893</td>\n",
              "      <td>1</td>\n",
              "    </tr>\n",
              "    <tr>\n",
              "      <th>3259</th>\n",
              "      <td>Шторм в РИ сильнее прошлого урагана. Мой город...</td>\n",
              "      <td>0.999535</td>\n",
              "      <td>1</td>\n",
              "    </tr>\n",
              "    <tr>\n",
              "      <th>3260</th>\n",
              "      <td>Крушение зеленой линии в Чикаго http://t.co/Ut...</td>\n",
              "      <td>0.962046</td>\n",
              "      <td>1</td>\n",
              "    </tr>\n",
              "    <tr>\n",
              "      <th>3261</th>\n",
              "      <td>MEG выпускает прогноз опасной погоды (HWO) htt...</td>\n",
              "      <td>0.687889</td>\n",
              "      <td>1</td>\n",
              "    </tr>\n",
              "    <tr>\n",
              "      <th>3262</th>\n",
              "      <td>#CityofCalgary активировал Муниципальный план ...</td>\n",
              "      <td>0.000961</td>\n",
              "      <td>0</td>\n",
              "    </tr>\n",
              "  </tbody>\n",
              "</table>\n",
              "<p>3263 rows × 3 columns</p>\n",
              "</div>\n",
              "    <div class=\"colab-df-buttons\">\n",
              "\n",
              "  <div class=\"colab-df-container\">\n",
              "    <button class=\"colab-df-convert\" onclick=\"convertToInteractive('df-b49ea5c0-c788-4373-ab48-e8a8238357fc')\"\n",
              "            title=\"Convert this dataframe to an interactive table.\"\n",
              "            style=\"display:none;\">\n",
              "\n",
              "  <svg xmlns=\"http://www.w3.org/2000/svg\" height=\"24px\" viewBox=\"0 -960 960 960\">\n",
              "    <path d=\"M120-120v-720h720v720H120Zm60-500h600v-160H180v160Zm220 220h160v-160H400v160Zm0 220h160v-160H400v160ZM180-400h160v-160H180v160Zm440 0h160v-160H620v160ZM180-180h160v-160H180v160Zm440 0h160v-160H620v160Z\"/>\n",
              "  </svg>\n",
              "    </button>\n",
              "\n",
              "  <style>\n",
              "    .colab-df-container {\n",
              "      display:flex;\n",
              "      gap: 12px;\n",
              "    }\n",
              "\n",
              "    .colab-df-convert {\n",
              "      background-color: #E8F0FE;\n",
              "      border: none;\n",
              "      border-radius: 50%;\n",
              "      cursor: pointer;\n",
              "      display: none;\n",
              "      fill: #1967D2;\n",
              "      height: 32px;\n",
              "      padding: 0 0 0 0;\n",
              "      width: 32px;\n",
              "    }\n",
              "\n",
              "    .colab-df-convert:hover {\n",
              "      background-color: #E2EBFA;\n",
              "      box-shadow: 0px 1px 2px rgba(60, 64, 67, 0.3), 0px 1px 3px 1px rgba(60, 64, 67, 0.15);\n",
              "      fill: #174EA6;\n",
              "    }\n",
              "\n",
              "    .colab-df-buttons div {\n",
              "      margin-bottom: 4px;\n",
              "    }\n",
              "\n",
              "    [theme=dark] .colab-df-convert {\n",
              "      background-color: #3B4455;\n",
              "      fill: #D2E3FC;\n",
              "    }\n",
              "\n",
              "    [theme=dark] .colab-df-convert:hover {\n",
              "      background-color: #434B5C;\n",
              "      box-shadow: 0px 1px 3px 1px rgba(0, 0, 0, 0.15);\n",
              "      filter: drop-shadow(0px 1px 2px rgba(0, 0, 0, 0.3));\n",
              "      fill: #FFFFFF;\n",
              "    }\n",
              "  </style>\n",
              "\n",
              "    <script>\n",
              "      const buttonEl =\n",
              "        document.querySelector('#df-b49ea5c0-c788-4373-ab48-e8a8238357fc button.colab-df-convert');\n",
              "      buttonEl.style.display =\n",
              "        google.colab.kernel.accessAllowed ? 'block' : 'none';\n",
              "\n",
              "      async function convertToInteractive(key) {\n",
              "        const element = document.querySelector('#df-b49ea5c0-c788-4373-ab48-e8a8238357fc');\n",
              "        const dataTable =\n",
              "          await google.colab.kernel.invokeFunction('convertToInteractive',\n",
              "                                                    [key], {});\n",
              "        if (!dataTable) return;\n",
              "\n",
              "        const docLinkHtml = 'Like what you see? Visit the ' +\n",
              "          '<a target=\"_blank\" href=https://colab.research.google.com/notebooks/data_table.ipynb>data table notebook</a>'\n",
              "          + ' to learn more about interactive tables.';\n",
              "        element.innerHTML = '';\n",
              "        dataTable['output_type'] = 'display_data';\n",
              "        await google.colab.output.renderOutput(dataTable, element);\n",
              "        const docLink = document.createElement('div');\n",
              "        docLink.innerHTML = docLinkHtml;\n",
              "        element.appendChild(docLink);\n",
              "      }\n",
              "    </script>\n",
              "  </div>\n",
              "\n",
              "\n",
              "<div id=\"df-abc10e98-87f8-4290-bdfb-1e30df281f8d\">\n",
              "  <button class=\"colab-df-quickchart\" onclick=\"quickchart('df-abc10e98-87f8-4290-bdfb-1e30df281f8d')\"\n",
              "            title=\"Suggest charts\"\n",
              "            style=\"display:none;\">\n",
              "\n",
              "<svg xmlns=\"http://www.w3.org/2000/svg\" height=\"24px\"viewBox=\"0 0 24 24\"\n",
              "     width=\"24px\">\n",
              "    <g>\n",
              "        <path d=\"M19 3H5c-1.1 0-2 .9-2 2v14c0 1.1.9 2 2 2h14c1.1 0 2-.9 2-2V5c0-1.1-.9-2-2-2zM9 17H7v-7h2v7zm4 0h-2V7h2v10zm4 0h-2v-4h2v4z\"/>\n",
              "    </g>\n",
              "</svg>\n",
              "  </button>\n",
              "\n",
              "<style>\n",
              "  .colab-df-quickchart {\n",
              "      --bg-color: #E8F0FE;\n",
              "      --fill-color: #1967D2;\n",
              "      --hover-bg-color: #E2EBFA;\n",
              "      --hover-fill-color: #174EA6;\n",
              "      --disabled-fill-color: #AAA;\n",
              "      --disabled-bg-color: #DDD;\n",
              "  }\n",
              "\n",
              "  [theme=dark] .colab-df-quickchart {\n",
              "      --bg-color: #3B4455;\n",
              "      --fill-color: #D2E3FC;\n",
              "      --hover-bg-color: #434B5C;\n",
              "      --hover-fill-color: #FFFFFF;\n",
              "      --disabled-bg-color: #3B4455;\n",
              "      --disabled-fill-color: #666;\n",
              "  }\n",
              "\n",
              "  .colab-df-quickchart {\n",
              "    background-color: var(--bg-color);\n",
              "    border: none;\n",
              "    border-radius: 50%;\n",
              "    cursor: pointer;\n",
              "    display: none;\n",
              "    fill: var(--fill-color);\n",
              "    height: 32px;\n",
              "    padding: 0;\n",
              "    width: 32px;\n",
              "  }\n",
              "\n",
              "  .colab-df-quickchart:hover {\n",
              "    background-color: var(--hover-bg-color);\n",
              "    box-shadow: 0 1px 2px rgba(60, 64, 67, 0.3), 0 1px 3px 1px rgba(60, 64, 67, 0.15);\n",
              "    fill: var(--button-hover-fill-color);\n",
              "  }\n",
              "\n",
              "  .colab-df-quickchart-complete:disabled,\n",
              "  .colab-df-quickchart-complete:disabled:hover {\n",
              "    background-color: var(--disabled-bg-color);\n",
              "    fill: var(--disabled-fill-color);\n",
              "    box-shadow: none;\n",
              "  }\n",
              "\n",
              "  .colab-df-spinner {\n",
              "    border: 2px solid var(--fill-color);\n",
              "    border-color: transparent;\n",
              "    border-bottom-color: var(--fill-color);\n",
              "    animation:\n",
              "      spin 1s steps(1) infinite;\n",
              "  }\n",
              "\n",
              "  @keyframes spin {\n",
              "    0% {\n",
              "      border-color: transparent;\n",
              "      border-bottom-color: var(--fill-color);\n",
              "      border-left-color: var(--fill-color);\n",
              "    }\n",
              "    20% {\n",
              "      border-color: transparent;\n",
              "      border-left-color: var(--fill-color);\n",
              "      border-top-color: var(--fill-color);\n",
              "    }\n",
              "    30% {\n",
              "      border-color: transparent;\n",
              "      border-left-color: var(--fill-color);\n",
              "      border-top-color: var(--fill-color);\n",
              "      border-right-color: var(--fill-color);\n",
              "    }\n",
              "    40% {\n",
              "      border-color: transparent;\n",
              "      border-right-color: var(--fill-color);\n",
              "      border-top-color: var(--fill-color);\n",
              "    }\n",
              "    60% {\n",
              "      border-color: transparent;\n",
              "      border-right-color: var(--fill-color);\n",
              "    }\n",
              "    80% {\n",
              "      border-color: transparent;\n",
              "      border-right-color: var(--fill-color);\n",
              "      border-bottom-color: var(--fill-color);\n",
              "    }\n",
              "    90% {\n",
              "      border-color: transparent;\n",
              "      border-bottom-color: var(--fill-color);\n",
              "    }\n",
              "  }\n",
              "</style>\n",
              "\n",
              "  <script>\n",
              "    async function quickchart(key) {\n",
              "      const quickchartButtonEl =\n",
              "        document.querySelector('#' + key + ' button');\n",
              "      quickchartButtonEl.disabled = true;  // To prevent multiple clicks.\n",
              "      quickchartButtonEl.classList.add('colab-df-spinner');\n",
              "      try {\n",
              "        const charts = await google.colab.kernel.invokeFunction(\n",
              "            'suggestCharts', [key], {});\n",
              "      } catch (error) {\n",
              "        console.error('Error during call to suggestCharts:', error);\n",
              "      }\n",
              "      quickchartButtonEl.classList.remove('colab-df-spinner');\n",
              "      quickchartButtonEl.classList.add('colab-df-quickchart-complete');\n",
              "    }\n",
              "    (() => {\n",
              "      let quickchartButtonEl =\n",
              "        document.querySelector('#df-abc10e98-87f8-4290-bdfb-1e30df281f8d button');\n",
              "      quickchartButtonEl.style.display =\n",
              "        google.colab.kernel.accessAllowed ? 'block' : 'none';\n",
              "    })();\n",
              "  </script>\n",
              "</div>\n",
              "    </div>\n",
              "  </div>\n"
            ],
            "application/vnd.google.colaboratory.intrinsic+json": {
              "type": "dataframe",
              "variable_name": "test_pred_rus_df",
              "summary": "{\n  \"name\": \"test_pred_rus_df\",\n  \"rows\": 3263,\n  \"fields\": [\n    {\n      \"column\": \"Text\",\n      \"properties\": {\n        \"dtype\": \"string\",\n        \"num_unique_values\": 3243,\n        \"samples\": [\n          \"\\u041f\\u043e\\u0441\\u043b\\u0435\\u0434\\u043d\\u0435\\u0435: \\u0421\\u0428\\u0410: \\u041e\\u0433\\u0440\\u043e\\u043c\\u043d\\u0430\\u044f \\u0432\\u043e\\u0440\\u043e\\u043d\\u043a\\u0430 \\u043f\\u043e\\u0433\\u043b\\u043e\\u0442\\u0438\\u043b\\u0430 \\u043f\\u0435\\u0440\\u0435\\u043a\\u0440\\u0451\\u0441\\u0442\\u043e\\u043a \\u0432 \\u0411\\u0440\\u0443\\u043a\\u043b\\u0438\\u043d\\u0435 http://t.co/vspKHg3nZy\",\n          \"\\u041c\\u043d\\u0435 \\u043f\\u043e\\u043d\\u0440\\u0430\\u0432\\u0438\\u043b\\u043e\\u0441\\u044c \\u0432\\u0438\\u0434\\u0435\\u043e \\u043d\\u0430 YouTube http://t.co/a5YTAw9Vih S.O.S. \\u041f\\u0443\\u0442\\u0435\\u0432\\u043e\\u0434\\u0438\\u0442\\u0435\\u043b\\u044c \\u043f\\u043e \\u0420\\u043e\\u043d\\u0435 - \\u041a\\u0440\\u0430\\u0441\\u043d\\u044b\\u0439 \\u0412\\u0438\\u0445\\u0440\\u044c\",\n          \"HitchBot \\u043f\\u0443\\u0442\\u0435\\u0448\\u0435\\u0441\\u0442\\u0432\\u0443\\u0435\\u0442 \\u043f\\u043e \\u0415\\u0432\\u0440\\u043e\\u043f\\u0435, \\u0438 \\u0435\\u0433\\u043e \\u0432\\u0441\\u0442\\u0440\\u0435\\u0447\\u0430\\u044e\\u0442 \\u0441 \\u0440\\u0430\\u0441\\u043f\\u0440\\u043e\\u0441\\u0442\\u0435\\u0440\\u0442\\u044b\\u043c\\u0438 \\u043e\\u0431\\u044a\\u044f\\u0442\\u0438\\u044f\\u043c\\u0438. \\u0420\\u0430\\u0437\\u0440\\u0443\\u0448\\u0430\\u0435\\u0442\\u0441\\u044f \\u0447\\u0435\\u0440\\u0435\\u0437 \\u0434\\u0432\\u0435 \\u043d\\u0435\\u0434\\u0435\\u043b\\u0438 \\u0432 \\u0410\\u043c\\u0435\\u0440\\u0438\\u043a\\u0435. \\u0417\\u0434\\u0435\\u0441\\u044c \\u0435\\u0441\\u0442\\u044c \\u0443\\u0440\\u043e\\u043a, \\u043a\\u043e\\u0442\\u043e\\u0440\\u044b\\u0439 \\u043d\\u0443\\u0436\\u043d\\u043e \\u0443\\u0441\\u0432\\u043e\\u0438\\u0442\\u044c.\"\n        ],\n        \"semantic_type\": \"\",\n        \"description\": \"\"\n      }\n    },\n    {\n      \"column\": \"Prediction\",\n      \"properties\": {\n        \"dtype\": \"float32\",\n        \"num_unique_values\": 2811,\n        \"samples\": [\n          0.18762119114398956,\n          0.023336023092269897,\n          0.0035943351686000824\n        ],\n        \"semantic_type\": \"\",\n        \"description\": \"\"\n      }\n    },\n    {\n      \"column\": \"Predicted_Class\",\n      \"properties\": {\n        \"dtype\": \"number\",\n        \"std\": 0,\n        \"min\": 0,\n        \"max\": 1,\n        \"num_unique_values\": 2,\n        \"samples\": [\n          0,\n          1\n        ],\n        \"semantic_type\": \"\",\n        \"description\": \"\"\n      }\n    }\n  ]\n}"
            }
          },
          "metadata": {},
          "execution_count": 35
        }
      ]
    },
    {
      "cell_type": "code",
      "source": [
        "test_loss, test_accuracy = clf_2.evaluate(x_train_rus2, y_train_rus, verbose=1)\n",
        "print(f\"Значения средней ошибки и точность модели на тестовом наборе: {test_loss :.4f} {test_accuracy :.4f}\")"
      ],
      "metadata": {
        "id": "I70Tq6nFzgxT",
        "colab": {
          "base_uri": "https://localhost:8080/"
        },
        "outputId": "f7c3a5a3-c1b6-43ce-8bb9-6e2d0b5491b1"
      },
      "execution_count": null,
      "outputs": [
        {
          "output_type": "stream",
          "name": "stdout",
          "text": [
            "238/238 [==============================] - 3s 8ms/step - loss: 0.0678 - accuracy: 0.9716\n",
            "Значения средней ошибки и точность модели на тестовом наборе: 0.0678 0.9716\n"
          ]
        }
      ]
    },
    {
      "cell_type": "code",
      "source": [],
      "metadata": {
        "id": "yY3l8Q-567DS"
      },
      "execution_count": null,
      "outputs": []
    },
    {
      "cell_type": "markdown",
      "source": [
        "**Выводы**\n",
        "\n",
        "\n",
        "---\n",
        "\n",
        "В целом, кажется, паритет в двух запусках.\n",
        "\n",
        "Автоперевод вполне неплох по качеству, учитывая, что и в твиттере пишут далеко не писатели.\n",
        "\n",
        "Думаю, просто увеличением эпох и колбэком можно было бы обе модели довести до 99,9%.\n",
        "\n",
        "Однако, как всегда, для более обоснованных выводов, с чем лучше или хуже справляется AutoKeras, конечно, нужно набрать статистику экспериментов, по два раза - мало."
      ],
      "metadata": {
        "id": "GejG6stuglhl"
      }
    },
    {
      "cell_type": "code",
      "source": [
        "mod = ['Англ (1)', 'Рус (1)', 'Англ (2)', 'Рус (2)']\n",
        "los = [0.0121, 0.0140, 0.0566, 0.0678]\n",
        "accur = [0.9930, 0.9940, 0.9775, 0.9716]\n",
        "size = [1000, 1000, 7613, 7613]\n",
        "mt = [3, 3, 3, 3]\n",
        "ep = [10, 10, 10, 10]\n",
        "bs = [16, 16, 32, 32]\n",
        "time = ['02m 33s СPU', '02m 10s СPU', '02m 34s GPU', '01m 54s GPU']"
      ],
      "metadata": {
        "id": "4hbqQQ0j66_q"
      },
      "execution_count": null,
      "outputs": []
    },
    {
      "cell_type": "code",
      "source": [
        "# Создайте итоговую таблицу\n",
        "\n",
        "tab = pd.DataFrame(data={\"Модель\": mod, \"Ошибка\": los, \"Точность\": accur, \"Размер\": size, \"max_trials\": mt, \"Эпохи\": ep, \"batch-size\": bs, \"Время\": time})\n",
        "\n",
        "pd.options.display.float_format = '{:.4f}'.format\n",
        "\n",
        "# Лучшая модель меряется по точности\n",
        "tab = tab.sort_values(\"Точность\", ascending=False).set_index('Модель')\n",
        "numeric_columns = ['Ошибка', 'Точность', 'Размер', 'max_trials', 'Эпохи', 'batch-size', \"Время\"]\n",
        "\n",
        "styles = [dict(selector=\"caption\", props=[(\"font-size\", \"100%\"),\n",
        "                                         (\"font-weight\", \"bold\"),\n",
        "                                         (\"text-align\", \"center\")]),\n",
        "          dict(selector=\"th\", props=[(\"width\", \"100px\"), (\"text-align\", \"center\")]),\n",
        "          dict(selector=\"td\", props=[(\"width\", \"100px\"), (\"text-align\", \"center\")])]\n",
        "\n",
        "tab_AK = (tab\n",
        "          .style\n",
        "          .set_caption('<span style=\"font-size: 130%;\">Результаты экспериментов</span>')\n",
        "          .set_table_styles(styles)\n",
        "          .format(precision=4, subset=numeric_columns)\n",
        "          .highlight_max(color='yellowgreen', subset=['Ошибка', 'Точность'])\n",
        "          .highlight_min(color='coral', subset=['Ошибка', 'Точность'])\n",
        "        )\n",
        "\n",
        "display(tab_AK)"
      ],
      "metadata": {
        "colab": {
          "base_uri": "https://localhost:8080/",
          "height": 229
        },
        "id": "p2KVK1rUqPfZ",
        "outputId": "3ba98f61-65b9-43c4-eb1c-624eeb6182b2"
      },
      "execution_count": null,
      "outputs": [
        {
          "output_type": "display_data",
          "data": {
            "text/plain": [
              "<pandas.io.formats.style.Styler at 0x7ac03c727070>"
            ],
            "text/html": [
              "<style type=\"text/css\">\n",
              "#T_63b33 caption {\n",
              "  font-size: 100%;\n",
              "  font-weight: bold;\n",
              "  text-align: center;\n",
              "}\n",
              "#T_63b33 th {\n",
              "  width: 100px;\n",
              "  text-align: center;\n",
              "}\n",
              "#T_63b33 td {\n",
              "  width: 100px;\n",
              "  text-align: center;\n",
              "}\n",
              "#T_63b33_row0_col1, #T_63b33_row3_col0 {\n",
              "  background-color: yellowgreen;\n",
              "}\n",
              "#T_63b33_row1_col0, #T_63b33_row3_col1 {\n",
              "  background-color: coral;\n",
              "}\n",
              "</style>\n",
              "<table id=\"T_63b33\" class=\"dataframe\">\n",
              "  <caption><span style=\"font-size: 130%;\">Результаты экспериментов</span></caption>\n",
              "  <thead>\n",
              "    <tr>\n",
              "      <th class=\"blank level0\" >&nbsp;</th>\n",
              "      <th id=\"T_63b33_level0_col0\" class=\"col_heading level0 col0\" >Ошибка</th>\n",
              "      <th id=\"T_63b33_level0_col1\" class=\"col_heading level0 col1\" >Точность</th>\n",
              "      <th id=\"T_63b33_level0_col2\" class=\"col_heading level0 col2\" >Размер</th>\n",
              "      <th id=\"T_63b33_level0_col3\" class=\"col_heading level0 col3\" >max_trials</th>\n",
              "      <th id=\"T_63b33_level0_col4\" class=\"col_heading level0 col4\" >Эпохи</th>\n",
              "      <th id=\"T_63b33_level0_col5\" class=\"col_heading level0 col5\" >batch-size</th>\n",
              "      <th id=\"T_63b33_level0_col6\" class=\"col_heading level0 col6\" >Время</th>\n",
              "    </tr>\n",
              "    <tr>\n",
              "      <th class=\"index_name level0\" >Модель</th>\n",
              "      <th class=\"blank col0\" >&nbsp;</th>\n",
              "      <th class=\"blank col1\" >&nbsp;</th>\n",
              "      <th class=\"blank col2\" >&nbsp;</th>\n",
              "      <th class=\"blank col3\" >&nbsp;</th>\n",
              "      <th class=\"blank col4\" >&nbsp;</th>\n",
              "      <th class=\"blank col5\" >&nbsp;</th>\n",
              "      <th class=\"blank col6\" >&nbsp;</th>\n",
              "    </tr>\n",
              "  </thead>\n",
              "  <tbody>\n",
              "    <tr>\n",
              "      <th id=\"T_63b33_level0_row0\" class=\"row_heading level0 row0\" >Рус (1)</th>\n",
              "      <td id=\"T_63b33_row0_col0\" class=\"data row0 col0\" >0.0140</td>\n",
              "      <td id=\"T_63b33_row0_col1\" class=\"data row0 col1\" >0.9940</td>\n",
              "      <td id=\"T_63b33_row0_col2\" class=\"data row0 col2\" >1000</td>\n",
              "      <td id=\"T_63b33_row0_col3\" class=\"data row0 col3\" >3</td>\n",
              "      <td id=\"T_63b33_row0_col4\" class=\"data row0 col4\" >10</td>\n",
              "      <td id=\"T_63b33_row0_col5\" class=\"data row0 col5\" >16</td>\n",
              "      <td id=\"T_63b33_row0_col6\" class=\"data row0 col6\" >02m 10s СPU</td>\n",
              "    </tr>\n",
              "    <tr>\n",
              "      <th id=\"T_63b33_level0_row1\" class=\"row_heading level0 row1\" >Англ (1)</th>\n",
              "      <td id=\"T_63b33_row1_col0\" class=\"data row1 col0\" >0.0121</td>\n",
              "      <td id=\"T_63b33_row1_col1\" class=\"data row1 col1\" >0.9930</td>\n",
              "      <td id=\"T_63b33_row1_col2\" class=\"data row1 col2\" >1000</td>\n",
              "      <td id=\"T_63b33_row1_col3\" class=\"data row1 col3\" >3</td>\n",
              "      <td id=\"T_63b33_row1_col4\" class=\"data row1 col4\" >10</td>\n",
              "      <td id=\"T_63b33_row1_col5\" class=\"data row1 col5\" >16</td>\n",
              "      <td id=\"T_63b33_row1_col6\" class=\"data row1 col6\" >02m 33s СPU</td>\n",
              "    </tr>\n",
              "    <tr>\n",
              "      <th id=\"T_63b33_level0_row2\" class=\"row_heading level0 row2\" >Англ (2)</th>\n",
              "      <td id=\"T_63b33_row2_col0\" class=\"data row2 col0\" >0.0566</td>\n",
              "      <td id=\"T_63b33_row2_col1\" class=\"data row2 col1\" >0.9775</td>\n",
              "      <td id=\"T_63b33_row2_col2\" class=\"data row2 col2\" >7613</td>\n",
              "      <td id=\"T_63b33_row2_col3\" class=\"data row2 col3\" >3</td>\n",
              "      <td id=\"T_63b33_row2_col4\" class=\"data row2 col4\" >10</td>\n",
              "      <td id=\"T_63b33_row2_col5\" class=\"data row2 col5\" >32</td>\n",
              "      <td id=\"T_63b33_row2_col6\" class=\"data row2 col6\" >02m 34s GPU</td>\n",
              "    </tr>\n",
              "    <tr>\n",
              "      <th id=\"T_63b33_level0_row3\" class=\"row_heading level0 row3\" >Рус (2)</th>\n",
              "      <td id=\"T_63b33_row3_col0\" class=\"data row3 col0\" >0.0678</td>\n",
              "      <td id=\"T_63b33_row3_col1\" class=\"data row3 col1\" >0.9716</td>\n",
              "      <td id=\"T_63b33_row3_col2\" class=\"data row3 col2\" >7613</td>\n",
              "      <td id=\"T_63b33_row3_col3\" class=\"data row3 col3\" >3</td>\n",
              "      <td id=\"T_63b33_row3_col4\" class=\"data row3 col4\" >10</td>\n",
              "      <td id=\"T_63b33_row3_col5\" class=\"data row3 col5\" >32</td>\n",
              "      <td id=\"T_63b33_row3_col6\" class=\"data row3 col6\" >01m 54s GPU</td>\n",
              "    </tr>\n",
              "  </tbody>\n",
              "</table>\n"
            ]
          },
          "metadata": {}
        }
      ]
    },
    {
      "cell_type": "code",
      "source": [],
      "metadata": {
        "id": "Hz-V-DopO2pC"
      },
      "execution_count": null,
      "outputs": []
    }
  ]
}